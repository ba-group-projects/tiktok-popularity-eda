{
 "cells": [
  {
   "cell_type": "markdown",
   "metadata": {},
   "source": [
    "## Import Packages"
   ]
  },
  {
   "cell_type": "code",
   "execution_count": 1,
   "metadata": {},
   "outputs": [
    {
     "name": "stdout",
     "output_type": "stream",
     "text": [
      "Missing Data:\n",
      "=============\n",
      "None\n",
      "\n",
      "Data Time Period:\n",
      "=================\n",
      "Start Date: 2020-09-22 14:22:38\n",
      "  End Date: 2020-12-21 03:18:36\n",
      " Timedelta: 89 days 12:55:58\n",
      "<class 'pandas.core.frame.DataFrame'>\n",
      "RangeIndex: 1000 entries, 0 to 999\n",
      "Data columns (total 35 columns):\n",
      " #   Column                   Non-Null Count  Dtype         \n",
      "---  ------                   --------------  -----         \n",
      " 0   id                       1000 non-null   object        \n",
      " 1   text                     1000 non-null   object        \n",
      " 2   createTime               1000 non-null   datetime64[ns]\n",
      " 3   webVideoUrl              1000 non-null   object        \n",
      " 4   likeCount                1000 non-null   int64         \n",
      " 5   shareCount               1000 non-null   int64         \n",
      " 6   playCount                1000 non-null   int64         \n",
      " 7   commentCount             1000 non-null   int64         \n",
      " 8   downloaded               1000 non-null   bool          \n",
      " 9   mentions                 1000 non-null   object        \n",
      " 10  hashtags                 1000 non-null   object        \n",
      " 11  authorMeta.id            1000 non-null   object        \n",
      " 12  authorMeta.secUid        1000 non-null   object        \n",
      " 13  authorMeta.name          1000 non-null   object        \n",
      " 14  authorMeta.nickName      1000 non-null   object        \n",
      " 15  authorMeta.verified      1000 non-null   bool          \n",
      " 16  authorMeta.signature     1000 non-null   object        \n",
      " 17  authorMeta.avatar        1000 non-null   object        \n",
      " 18  musicMeta.musicId        1000 non-null   object        \n",
      " 19  musicMeta.musicName      1000 non-null   object        \n",
      " 20  musicMeta.musicAuthor    1000 non-null   object        \n",
      " 21  musicMeta.musicOriginal  1000 non-null   bool          \n",
      " 22  musicMeta.playUrl        1000 non-null   object        \n",
      " 23  musicMeta.coverThumb     1000 non-null   object        \n",
      " 24  musicMeta.coverMedium    1000 non-null   object        \n",
      " 25  musicMeta.coverLarge     1000 non-null   object        \n",
      " 26  covers.default           1000 non-null   object        \n",
      " 27  covers.origin            1000 non-null   object        \n",
      " 28  covers.dynamic           1000 non-null   object        \n",
      " 29  videoMeta.height         1000 non-null   int64         \n",
      " 30  videoMeta.width          1000 non-null   int64         \n",
      " 31  videoMeta.duration       1000 non-null   int64         \n",
      " 32  shareRate                1000 non-null   float64       \n",
      " 33  likeRate                 1000 non-null   float64       \n",
      " 34  commentRate              1000 non-null   float64       \n",
      "dtypes: bool(3), datetime64[ns](1), float64(3), int64(7), object(21)\n",
      "memory usage: 253.1+ KB\n"
     ]
    }
   ],
   "source": [
    "import numpy as np\n",
    "import pandas as pd\n",
    "import matplotlib.pyplot as plt\n",
    "from clean import CleanData\n",
    "import seaborn as sns\n",
    "import json\n",
    "from googletrans import Translator\n",
    "import matplotlib.dates as mdates\n",
    "import seaborn as sns\n",
    "from datetime import datetime, timedelta\n",
    "\n",
    "data = json.load(open('./data/trending.json', encoding=\"utf8\"))\n",
    "data = data['collector']\n",
    "toParse = pd.json_normalize(data)\n",
    "df = CleanData(toParse)\n",
    "df.process_the_data()\n",
    "df.summary_of_data()\n",
    "df_clean = df.dfm\n",
    "df_clean.info()"
   ]
  },
  {
   "cell_type": "markdown",
   "metadata": {},
   "source": [
    "## Tobie Code"
   ]
  },
  {
   "cell_type": "code",
   "execution_count": 2,
   "metadata": {},
   "outputs": [],
   "source": [
    "df = pd.read_csv(\"new_dfm.csv\")"
   ]
  },
  {
   "cell_type": "code",
   "execution_count": 3,
   "metadata": {},
   "outputs": [
    {
     "name": "stdout",
     "output_type": "stream",
     "text": [
      "<class 'pandas.core.frame.DataFrame'>\n",
      "RangeIndex: 1000 entries, 0 to 999\n",
      "Data columns (total 35 columns):\n",
      " #   Column                   Non-Null Count  Dtype         \n",
      "---  ------                   --------------  -----         \n",
      " 0   id                       1000 non-null   object        \n",
      " 1   text                     1000 non-null   object        \n",
      " 2   createTime               1000 non-null   datetime64[ns]\n",
      " 3   webVideoUrl              1000 non-null   object        \n",
      " 4   likeCount                1000 non-null   int64         \n",
      " 5   shareCount               1000 non-null   int64         \n",
      " 6   playCount                1000 non-null   int64         \n",
      " 7   commentCount             1000 non-null   int64         \n",
      " 8   downloaded               1000 non-null   bool          \n",
      " 9   mentions                 1000 non-null   object        \n",
      " 10  hashtags                 1000 non-null   object        \n",
      " 11  authorMeta.id            1000 non-null   object        \n",
      " 12  authorMeta.secUid        1000 non-null   object        \n",
      " 13  authorMeta.name          1000 non-null   object        \n",
      " 14  authorMeta.nickName      1000 non-null   object        \n",
      " 15  authorMeta.verified      1000 non-null   bool          \n",
      " 16  authorMeta.signature     1000 non-null   object        \n",
      " 17  authorMeta.avatar        1000 non-null   object        \n",
      " 18  musicMeta.musicId        1000 non-null   object        \n",
      " 19  musicMeta.musicName      1000 non-null   object        \n",
      " 20  musicMeta.musicAuthor    1000 non-null   object        \n",
      " 21  musicMeta.musicOriginal  1000 non-null   bool          \n",
      " 22  musicMeta.playUrl        1000 non-null   object        \n",
      " 23  musicMeta.coverThumb     1000 non-null   object        \n",
      " 24  musicMeta.coverMedium    1000 non-null   object        \n",
      " 25  musicMeta.coverLarge     1000 non-null   object        \n",
      " 26  covers.default           1000 non-null   object        \n",
      " 27  covers.origin            1000 non-null   object        \n",
      " 28  covers.dynamic           1000 non-null   object        \n",
      " 29  videoMeta.height         1000 non-null   int64         \n",
      " 30  videoMeta.width          1000 non-null   int64         \n",
      " 31  videoMeta.duration       1000 non-null   int64         \n",
      " 32  shareRate                1000 non-null   float64       \n",
      " 33  likeRate                 1000 non-null   float64       \n",
      " 34  commentRate              1000 non-null   float64       \n",
      "dtypes: bool(3), datetime64[ns](1), float64(3), int64(7), object(21)\n",
      "memory usage: 253.1+ KB\n"
     ]
    }
   ],
   "source": [
    "df_clean.info()"
   ]
  },
  {
   "cell_type": "code",
   "execution_count": 4,
   "metadata": {},
   "outputs": [
    {
     "data": {
      "text/plain": [
       "original sound                                   353\n",
       "Original sound                                    27\n",
       "Original sound.                                   20\n",
       "as original                                       19\n",
       "Therefore I Am                                     8\n",
       "Original                                           6\n",
       "Oh No                                              5\n",
       "The original sound                                 5\n",
       "Potential Breakup Song                             4\n",
       "WITHOUT YOU                                        4\n",
       "Where Is The Love?                                 4\n",
       "Original Sound                                     4\n",
       "What You Know Bout Love                            3\n",
       "They are original                                  3\n",
       "Pilfingerdansen - Remix                            3\n",
       "ruin our friendship                                3\n",
       "positions                                          2\n",
       "BILLIE JEAN X BOO X F IT UP VMESHBEATS MASHUP      2\n",
       "Rocky: Eye of the Tiger                            2\n",
       "Remember the Name (feat. Styles of Beyond)         2\n",
       "Name: translated_lang, dtype: int64"
      ]
     },
     "execution_count": 4,
     "metadata": {},
     "output_type": "execute_result"
    }
   ],
   "source": [
    "df[\"translated_lang\"].value_counts().head(20)\n"
   ]
  },
  {
   "cell_type": "code",
   "execution_count": 5,
   "metadata": {},
   "outputs": [],
   "source": [
    "df[\"translated_lang\"] = df[\"translated_lang\"].astype(\n",
    "    str)\n",
    "df[\"translated_lang\"] = df[\"translated_lang\"].apply(\n",
    "    lambda x: x.lower())\n"
   ]
  },
  {
   "cell_type": "code",
   "execution_count": 6,
   "metadata": {},
   "outputs": [
    {
     "data": {
      "text/plain": [
       "original sound                                   384\n",
       "nan                                              217\n",
       "original sound.                                   20\n",
       "as original                                       19\n",
       "therefore i am                                     8\n",
       "original                                           6\n",
       "oh no                                              5\n",
       "the original sound                                 5\n",
       "potential breakup song                             4\n",
       "without you                                        4\n",
       "where is the love?                                 4\n",
       "what you know bout love                            3\n",
       "they are original                                  3\n",
       "pilfingerdansen - remix                            3\n",
       "ruin our friendship                                3\n",
       "sean kingston & justin bieber - eenie meenie       2\n",
       "billie jean x boo x f it up vmeshbeats mashup      2\n",
       "oh my god                                          2\n",
       "sit on the farmer                                  2\n",
       "remember the name (feat. styles of beyond)         2\n",
       "Name: translated_lang, dtype: int64"
      ]
     },
     "execution_count": 6,
     "metadata": {},
     "output_type": "execute_result"
    }
   ],
   "source": [
    "df[\"translated_lang\"].value_counts().head(20)"
   ]
  },
  {
   "cell_type": "code",
   "execution_count": 7,
   "metadata": {},
   "outputs": [],
   "source": [
    "df[\"original_sound\"] = df[\"translated_lang\"].apply(lambda x: True if \"original\" in  x else False)\n"
   ]
  },
  {
   "cell_type": "code",
   "execution_count": 8,
   "metadata": {},
   "outputs": [],
   "source": [
    "df[\"first_audio\"] = df[\"musicMeta.musicOriginal\"]\n"
   ]
  },
  {
   "cell_type": "code",
   "execution_count": 9,
   "metadata": {},
   "outputs": [
    {
     "data": {
      "text/html": [
       "<div>\n",
       "<style scoped>\n",
       "    .dataframe tbody tr th:only-of-type {\n",
       "        vertical-align: middle;\n",
       "    }\n",
       "\n",
       "    .dataframe tbody tr th {\n",
       "        vertical-align: top;\n",
       "    }\n",
       "\n",
       "    .dataframe thead th {\n",
       "        text-align: right;\n",
       "    }\n",
       "</style>\n",
       "<table border=\"1\" class=\"dataframe\">\n",
       "  <thead>\n",
       "    <tr style=\"text-align: right;\">\n",
       "      <th></th>\n",
       "      <th></th>\n",
       "      <th>likeRate</th>\n",
       "    </tr>\n",
       "    <tr>\n",
       "      <th>first_audio</th>\n",
       "      <th>original_sound</th>\n",
       "      <th></th>\n",
       "    </tr>\n",
       "  </thead>\n",
       "  <tbody>\n",
       "    <tr>\n",
       "      <th rowspan=\"2\" valign=\"top\">1</th>\n",
       "      <th>False</th>\n",
       "      <td>0.106613</td>\n",
       "    </tr>\n",
       "    <tr>\n",
       "      <th>True</th>\n",
       "      <td>0.101524</td>\n",
       "    </tr>\n",
       "    <tr>\n",
       "      <th rowspan=\"2\" valign=\"top\">0</th>\n",
       "      <th>False</th>\n",
       "      <td>0.087618</td>\n",
       "    </tr>\n",
       "    <tr>\n",
       "      <th>True</th>\n",
       "      <td>0.075364</td>\n",
       "    </tr>\n",
       "  </tbody>\n",
       "</table>\n",
       "</div>"
      ],
      "text/plain": [
       "                            likeRate\n",
       "first_audio original_sound          \n",
       "1           False           0.106613\n",
       "            True            0.101524\n",
       "0           False           0.087618\n",
       "            True            0.075364"
      ]
     },
     "execution_count": 9,
     "metadata": {},
     "output_type": "execute_result"
    }
   ],
   "source": [
    "df[[\"first_audio\",\"original_sound\", \"likeRate\"]].groupby(\n",
    "    [\"first_audio\", \"original_sound\"]).mean().sort_values(by=\"likeRate\", ascending=False)\n"
   ]
  },
  {
   "cell_type": "code",
   "execution_count": 10,
   "metadata": {},
   "outputs": [
    {
     "data": {
      "text/plain": [
       "False    546\n",
       "True     454\n",
       "Name: original_sound, dtype: int64"
      ]
     },
     "execution_count": 10,
     "metadata": {},
     "output_type": "execute_result"
    }
   ],
   "source": [
    "df[\"original_sound\"].value_counts()"
   ]
  },
  {
   "cell_type": "markdown",
   "metadata": {},
   "source": [
    "## Mattheus Code\n"
   ]
  },
  {
   "cell_type": "code",
   "execution_count": 11,
   "metadata": {},
   "outputs": [],
   "source": [
    "def plot_bar(ax1, response, response_label, edgecolors, area_color1, area_color2, alpha, legend=False, spines=False, xaxis=False):\n",
    "    x = avg_df['videoMeta.duration']\n",
    "    y = avg_df[response]\n",
    "    ax1.set_xticks(np.arange(min(x), max(x)+1, 1))\n",
    "    ax1.set_xticklabels([''] * len(np.arange(min(x), max(x)+1, 1)))\n",
    "    # ax1.set_xticklabels(ax1.get_xticks(),rotation=90)\n",
    "    # ax1.set_yticks(np.arange(0, max(y)+0.0005, 0.001))\n",
    "    ax1.set_ylim([min(y),max(y)+0.001])\n",
    "\n",
    "    x = avg_df[avg_df['authorMeta.verified'] == False]['videoMeta.duration']\n",
    "    y = avg_df[avg_df['authorMeta.verified'] == False][response]\n",
    "\n",
    "    # X_Y_Spline = make_interp_spline(x, y)\n",
    "    # X_ = np.linspace(x.min(), x.max(), 500)\n",
    "    # Y_ = X_Y_Spline(X_)\n",
    "\n",
    "    ax1.bar(x,y,color='green',alpha=alpha)\n",
    "    # l1 = ax1.fill_between(x,y, color=area_color1,alpha=alpha)\n",
    "\n",
    "    x = avg_df[avg_df['authorMeta.verified'] == True]['videoMeta.duration']\n",
    "    y = avg_df[avg_df['authorMeta.verified'] == True][response]\n",
    "\n",
    "    # X_Y_Spline = make_interp_spline(x, y)\n",
    "    # X_ = np.linspace(x.min(), x.max(), 500)\n",
    "    # Y_ = X_Y_Spline(X_)\n",
    "\n",
    "    ax1.bar(x,y,color='blue',alpha=alpha)\n",
    "    # l2 = ax1.fill_between(x,y,color=area_color2,alpha=alpha)    \n",
    "    \n",
    "    # if legend == True:\n",
    "    #     ax1.legend(handles=[l1,l2], labels=['Not Verified','Verified'], edgecolor='black')\n",
    "\n",
    "    # ax1.set_xlabel('Video Duration (seconds)', fontdict={'fontsize': 20})\n",
    "    ax1.set_ylabel(f'{response_label}', fontdict={'fontsize': 14})\n",
    "    # ax1.set_title(f'Distribution of {response_label}', fontdict={'fontsize': 25})\n",
    "    \n",
    "    if spines == True:\n",
    "        ax1.spines['right'].set_visible(False)\n",
    "        ax1.spines['top'].set_visible(False)\n",
    "    \n",
    "    if xaxis == True:\n",
    "        ax1.spines['bottom'].set_visible(False)\n",
    "\n",
    "    ax1.tick_params(axis='both', which='major', labelsize=12.5)"
   ]
  },
  {
   "cell_type": "code",
   "execution_count": 43,
   "metadata": {},
   "outputs": [
    {
     "name": "stderr",
     "output_type": "stream",
     "text": [
      "C:\\Users\\Mattheus\\anaconda3\\envs\\smm635\\lib\\site-packages\\pandas\\core\\indexing.py:1773: SettingWithCopyWarning: \n",
      "A value is trying to be set on a copy of a slice from a DataFrame.\n",
      "Try using .loc[row_indexer,col_indexer] = value instead\n",
      "\n",
      "See the caveats in the documentation: https://pandas.pydata.org/pandas-docs/stable/user_guide/indexing.html#returning-a-view-versus-a-copy\n",
      "  self._setitem_single_column(ilocs[0], value, pi)\n"
     ]
    },
    {
     "data": {
      "text/html": [
       "<div>\n",
       "<style scoped>\n",
       "    .dataframe tbody tr th:only-of-type {\n",
       "        vertical-align: middle;\n",
       "    }\n",
       "\n",
       "    .dataframe tbody tr th {\n",
       "        vertical-align: top;\n",
       "    }\n",
       "\n",
       "    .dataframe thead th {\n",
       "        text-align: right;\n",
       "    }\n",
       "</style>\n",
       "<table border=\"1\" class=\"dataframe\">\n",
       "  <thead>\n",
       "    <tr style=\"text-align: right;\">\n",
       "      <th></th>\n",
       "      <th>first_audio</th>\n",
       "      <th>original_sound</th>\n",
       "      <th>videos_count</th>\n",
       "      <th>avg_share_rate</th>\n",
       "      <th>avg_like_rate</th>\n",
       "      <th>avg_comment_rate</th>\n",
       "    </tr>\n",
       "  </thead>\n",
       "  <tbody>\n",
       "    <tr>\n",
       "      <th>0</th>\n",
       "      <td>False</td>\n",
       "      <td>False</td>\n",
       "      <td>249</td>\n",
       "      <td>0.002022</td>\n",
       "      <td>0.087618</td>\n",
       "      <td>0.002088</td>\n",
       "    </tr>\n",
       "    <tr>\n",
       "      <th>1</th>\n",
       "      <td>False</td>\n",
       "      <td>True</td>\n",
       "      <td>5</td>\n",
       "      <td>0.000527</td>\n",
       "      <td>0.075364</td>\n",
       "      <td>0.001662</td>\n",
       "    </tr>\n",
       "    <tr>\n",
       "      <th>2</th>\n",
       "      <td>True</td>\n",
       "      <td>False</td>\n",
       "      <td>297</td>\n",
       "      <td>0.002086</td>\n",
       "      <td>0.106613</td>\n",
       "      <td>0.002209</td>\n",
       "    </tr>\n",
       "    <tr>\n",
       "      <th>3</th>\n",
       "      <td>True</td>\n",
       "      <td>True</td>\n",
       "      <td>449</td>\n",
       "      <td>0.002417</td>\n",
       "      <td>0.101524</td>\n",
       "      <td>0.002816</td>\n",
       "    </tr>\n",
       "  </tbody>\n",
       "</table>\n",
       "</div>"
      ],
      "text/plain": [
       "   first_audio  original_sound  videos_count  avg_share_rate  avg_like_rate  \\\n",
       "0        False           False           249        0.002022       0.087618   \n",
       "1        False            True             5        0.000527       0.075364   \n",
       "2         True           False           297        0.002086       0.106613   \n",
       "3         True            True           449        0.002417       0.101524   \n",
       "\n",
       "   avg_comment_rate  \n",
       "0          0.002088  \n",
       "1          0.001662  \n",
       "2          0.002209  \n",
       "3          0.002816  "
      ]
     },
     "execution_count": 43,
     "metadata": {},
     "output_type": "execute_result"
    }
   ],
   "source": [
    "filter_df = df[[\"first_audio\",\"original_sound\",'shareRate','likeRate','commentRate']]\n",
    "filter_df.loc[:,'first_audio'] = filter_df.loc[:,'first_audio'].replace(1,True).replace(0,False)\n",
    "\n",
    "clean_df = filter_df.groupby(['first_audio','original_sound'],as_index=False).size().rename(columns={\"size\": \"videos_count\"})\n",
    "pivot_df = filter_df.groupby(['first_audio','original_sound'],as_index=False).agg([np.mean])\n",
    "clean_df['avg_share_rate'] = pivot_df.reset_index()['shareRate'][['mean']]\n",
    "clean_df['avg_like_rate'] = pivot_df.reset_index()['likeRate'][['mean']]\n",
    "clean_df['avg_comment_rate'] = pivot_df.reset_index()['commentRate'][['mean']]\n",
    "clean_df"
   ]
  },
  {
   "cell_type": "code",
   "execution_count": 13,
   "metadata": {},
   "outputs": [
    {
     "data": {
      "image/png": "[encoded data removed]",
      "text/plain": [
       "<Figure size 1440x360 with 4 Axes>"
      ]
     },
     "metadata": {
      "needs_background": "light"
     },
     "output_type": "display_data"
    }
   ],
   "source": [
    "fig = plt.figure(figsize=(20,5),constrained_layout=True)\n",
    "# fig.suptitle('Music and 1st ppload factors against metrics', fontsize=10)\n",
    "alpha=0.5\n",
    "ind = np.arange(2) # the x locations for the groups\n",
    "width = 0.15       # the width of the bars\n",
    "ax1 = fig.add_subplot(141)\n",
    "response = 'avg_like_rate'\n",
    "\n",
    "x = clean_df[clean_df['first_audio'] == 'True']['original_sound']\n",
    "y = clean_df[clean_df['first_audio'] == 'True'][response]\n",
    "bar1 = ax1.bar(ind, y, width, color='blue',alpha=alpha)\n",
    "\n",
    "x = clean_df[clean_df['first_audio'] == 'False']['original_sound']\n",
    "y = clean_df[clean_df['first_audio'] == 'False'][response]\n",
    "bar2 = ax1.bar(ind + width, y, width, color='green',alpha=alpha)\n",
    "\n",
    "ax1.set_ylabel('Avg Like Rate')\n",
    "ax1.set_xticks(ind + width / 2)\n",
    "ax1.set_xticklabels(('Original Sound', 'Music'))\n",
    "\n",
    "ax1.legend((bar1[0], bar2[0]), ('1st Upload', 'Not 1st Upload'), loc='upper center')\n",
    "\n",
    "ax2 = fig.add_subplot(142)\n",
    "response = 'avg_share_rate'\n",
    "\n",
    "x = clean_df[clean_df['first_audio'] == 'True']['original_sound']\n",
    "y = clean_df[clean_df['first_audio'] == 'True'][response]\n",
    "bar1 = ax2.bar(ind, y, width, color='blue',alpha=alpha)\n",
    "\n",
    "x = clean_df[clean_df['first_audio'] == 'False']['original_sound']\n",
    "y = clean_df[clean_df['first_audio'] == 'False'][response]\n",
    "bar2 = ax2.bar(ind + width, y, width, color='green',alpha=alpha)\n",
    "\n",
    "ax2.set_ylabel('Avg Share Rate')\n",
    "ax2.set_xticks(ind + width / 2)\n",
    "ax2.set_xticklabels(('Original Sound', 'Music'))\n",
    "\n",
    "ax2.legend((bar1[0], bar2[0]), ('1st Upload', 'Not 1st Upload'), loc='upper center')\n",
    "\n",
    "ax3 = fig.add_subplot(143)\n",
    "response = 'avg_comment_rate'\n",
    "\n",
    "x = clean_df[clean_df['first_audio'] == 'True']['original_sound']\n",
    "y = clean_df[clean_df['first_audio'] == 'True'][response]\n",
    "bar1 = ax3.bar(ind, y, width, color='blue',alpha=alpha)\n",
    "\n",
    "x = clean_df[clean_df['first_audio'] == 'False']['original_sound']\n",
    "y = clean_df[clean_df['first_audio'] == 'False'][response]\n",
    "bar2 = ax3.bar(ind + width, y, width, color='green',alpha=alpha)\n",
    "\n",
    "ax3.set_ylabel('Avg comment Rate')\n",
    "ax3.set_xticks(ind + width / 2)\n",
    "ax3.set_xticklabels(('Original Sound', 'Music'))\n",
    "\n",
    "ax3.legend((bar1[0], bar2[0]), ('1st Upload', 'Not 1st Upload'), loc='upper center')\n",
    "\n",
    "ax4 = fig.add_subplot(144)\n",
    "response = 'videos_count'\n",
    "\n",
    "x = clean_df[clean_df['first_audio'] == 'True']['original_sound']\n",
    "y = clean_df[clean_df['first_audio'] == 'True'][response]\n",
    "bar1 = ax4.bar(ind, y, width, color='blue',alpha=alpha)\n",
    "    \n",
    "x = clean_df[clean_df['first_audio'] == 'False']['original_sound']\n",
    "y = clean_df[clean_df['first_audio'] == 'False'][response]\n",
    "bar2 = ax4.bar(ind + width, y, width, color='green',alpha=alpha)\n",
    "\n",
    "ax4.set_ylabel('# of Videos')\n",
    "ax4.set_xticks(ind + width / 2)\n",
    "ax4.set_xticklabels(('Original Sound', 'Music'))\n",
    "\n",
    "ax4.legend((bar1[0], bar2[0]), ('1st Upload', 'Not 1st Upload'), loc='upper center')\n",
    "\n",
    "plt.show()"
   ]
  },
  {
   "cell_type": "code",
   "execution_count": 14,
   "metadata": {},
   "outputs": [
    {
     "data": {
      "text/plain": [
       "[False, True]"
      ]
     },
     "execution_count": 14,
     "metadata": {},
     "output_type": "execute_result"
    }
   ],
   "source": [
    "x = list(clean_df[clean_df['first_audio'] == 'True']['original_sound'].reset_index(drop=True))\n",
    "y = list(clean_df[clean_df['first_audio'] == 'True'][response].reset_index(drop=True))\n",
    "x"
   ]
  },
  {
   "cell_type": "code",
   "execution_count": 15,
   "metadata": {},
   "outputs": [
    {
     "data": {
      "text/plain": [
       "array([0, 1])"
      ]
     },
     "execution_count": 15,
     "metadata": {},
     "output_type": "execute_result"
    }
   ],
   "source": [
    "ind = np.arange(2)\n",
    "ind"
   ]
  },
  {
   "cell_type": "code",
   "execution_count": 36,
   "metadata": {},
   "outputs": [
    {
     "name": "stdout",
     "output_type": "stream",
     "text": [
      "<class 'pandas.core.frame.DataFrame'>\n",
      "RangeIndex: 4 entries, 0 to 3\n",
      "Data columns (total 6 columns):\n",
      " #   Column            Non-Null Count  Dtype  \n",
      "---  ------            --------------  -----  \n",
      " 0   first_audio       4 non-null      bool   \n",
      " 1   original_sound    4 non-null      bool   \n",
      " 2   videos_count      4 non-null      int64  \n",
      " 3   avg_share_rate    4 non-null      float64\n",
      " 4   avg_like_rate     4 non-null      float64\n",
      " 5   avg_comment_rate  4 non-null      float64\n",
      "dtypes: bool(2), float64(3), int64(1)\n",
      "memory usage: 264.0 bytes\n"
     ]
    }
   ],
   "source": [
    "clean_df.info()"
   ]
  },
  {
   "cell_type": "code",
   "execution_count": 51,
   "metadata": {},
   "outputs": [],
   "source": [
    "like_tt = clean_df[(clean_df['original_sound'] == True) & (clean_df['first_audio'] == True)]['avg_like_rate']\n",
    "like_tf = clean_df[(clean_df['original_sound'] == True) & (clean_df['first_audio'] == False)]['avg_like_rate']\n",
    "like_ft = clean_df[(clean_df['original_sound'] == False) & (clean_df['first_audio'] == True)]['avg_like_rate']\n",
    "like_ff = clean_df[(clean_df['original_sound'] == False) & (clean_df['first_audio'] == False)]['avg_like_rate']"
   ]
  },
  {
   "cell_type": "code",
   "execution_count": 112,
   "metadata": {},
   "outputs": [
    {
     "data": {
      "image/png": "[encoded data removed]",
      "text/plain": [
       "<Figure size 432x288 with 1 Axes>"
      ]
     },
     "metadata": {
      "needs_background": "light"
     },
     "output_type": "display_data"
    }
   ],
   "source": [
    "# figure\n",
    "fig = plt.figure(figsize=(6, 4), constrained_layout=True)\n",
    "\n",
    "# add plot\n",
    "ax = fig.add_subplot(111)\n",
    "\n",
    "x = np.arange(11)\n",
    "y1 = [-5,-5]+[like_tt]+[-5,-5,-5]+[like_ft]+[-5,-5,-5,-5]\n",
    "y2 = [-5,-5,-5]+[like_tf]+[-5,-5,-5]+[like_ff]+[-5,-5,-5]\n",
    "\n",
    "v_offset = 0.003\n",
    "height1 = [like_tt-v_offset,like_ft-v_offset]\n",
    "height2 = [like_tf-v_offset,like_ff-v_offset]\n",
    "# plot data\n",
    "ax.scatter(x, y1, marker='o', color='green',edgecolor='k')\n",
    "ax.scatter(x, y2, marker='o', color='red',edgecolor='k')\n",
    "ax.legend(labels=['1st Upload','Not 1st Upload'],loc='upper right',fontsize=10)\n",
    "ax.vlines(x=[2,6], ymin=0, ymax=height1, color='green',\n",
    "          alpha=0.7, linewidth=1, edgecolor='k')\n",
    "ax.vlines(x=[3,7], ymin=0, ymax=height2, color='red',\n",
    "          alpha=0.7, linewidth=1, edgecolor='k')\n",
    "\n",
    "# hide the right and top spines\n",
    "ax.spines['right'].set_visible(False)\n",
    "ax.spines['top'].set_visible(False)\n",
    "ax.spines['bottom'].set_visible(False)\n",
    "ax.spines['left'].set_visible(False)\n",
    "\n",
    "ax.set_ylim(0,0.12)\n",
    "ax.tick_params(bottom=False, left=False)\n",
    "ax.set_xticks(np.arange(0, 10, 0.5))\n",
    "# ax.set_xticklabels(ax.get_xticks(),rotation=90) #5,7 14,16\n",
    "ax.set_xticklabels(['','','','','','Original Sound','','','','','','','','Music','','','','','',''])\n",
    "\n",
    "# title\n",
    "plt.title(r'Avg. Like Rate')\n",
    "plt.show()"
   ]
  },
  {
   "cell_type": "code",
   "execution_count": 105,
   "metadata": {},
   "outputs": [
    {
     "name": "stderr",
     "output_type": "stream",
     "text": [
      "<ipython-input-105-8c706270a344>:16: UserWarning: You passed a edgecolor/edgecolors ('w') for an unfilled marker ('x').  Matplotlib is ignoring the edgecolor in favor of the facecolor.  This behavior may change in the future.\n",
      "  ax.scatter(x, y2, marker='x', color='k',edgecolor='w')\n"
     ]
    },
    {
     "data": {
      "image/png": "[encoded data removed]",
      "text/plain": [
       "<Figure size 432x288 with 1 Axes>"
      ]
     },
     "metadata": {
      "needs_background": "light"
     },
     "output_type": "display_data"
    }
   ],
   "source": [
    "# figure\n",
    "fig = plt.figure(figsize=(6, 4), constrained_layout=True)\n",
    "\n",
    "# add plot\n",
    "ax = fig.add_subplot(111)\n",
    "\n",
    "x = np.arange(11)\n",
    "y1 = [-5,-5]+[like_tt]+[-5,-5,-5]+[like_ft]+[-5,-5,-5,-5]\n",
    "y2 = [-5,-5,-5]+[like_tf]+[-5,-5,-5]+[like_ff]+[-5,-5,-5]\n",
    "\n",
    "v_offset = 0.003\n",
    "height1 = [like_tt-v_offset,like_ft-v_offset]\n",
    "height2 = [like_tf-v_offset,like_ff-v_offset]\n",
    "# plot data\n",
    "ax.scatter(x, y1, marker='o', color='k',edgecolor='w')\n",
    "ax.scatter(x, y2, marker='x', color='k',edgecolor='w')\n",
    "ax.legend(labels=['1st Upload','Not 1st Upload'],loc='upper right',fontsize=10)\n",
    "ax.vlines(x=[2,6], ymin=0, ymax=height1, color='k',\n",
    "          alpha=0.7, linewidth=1)\n",
    "ax.vlines(x=[3,7], ymin=0, ymax=height2, color='k',\n",
    "          alpha=0.7, linewidth=1)\n",
    "\n",
    "# hide the right and top spines\n",
    "ax.spines['right'].set_visible(False)\n",
    "ax.spines['top'].set_visible(False)\n",
    "ax.spines['bottom'].set_visible(False)\n",
    "ax.spines['left'].set_visible(False)\n",
    "\n",
    "ax.set_ylim(0,0.12)\n",
    "ax.tick_params(bottom=False, left=False)\n",
    "ax.set_xticks(np.arange(0, 10, 0.5))\n",
    "# ax.set_xticklabels(ax.get_xticks(),rotation=90) #5,7 14,16\n",
    "ax.set_xticklabels(['','','','','','Original Sound','','','','','','','','Music','','','','','',''])\n",
    "\n",
    "# title\n",
    "plt.title(r'Avg. Like Rate')\n",
    "plt.show()"
   ]
  },
  {
   "cell_type": "code",
   "execution_count": null,
   "metadata": {},
   "outputs": [],
   "source": []
  }
 ],
 "metadata": {
  "interpreter": {
   "hash": "808bcbb6f80ab72d5b51d0124ee44b487765018de7506ba1dedc966514baa35a"
  },
  "kernelspec": {
   "display_name": "Python 3.7.6 64-bit ('base': conda)",
   "name": "python3"
  },
  "language_info": {
   "codemirror_mode": {
    "name": "ipython",
    "version": 3
   },
   "file_extension": ".py",
   "mimetype": "text/x-python",
   "name": "python",
   "nbconvert_exporter": "python",
   "pygments_lexer": "ipython3",
   "version": "3.8.11"
  },
  "orig_nbformat": 4
 },
 "nbformat": 4,
 "nbformat_minor": 2
}
