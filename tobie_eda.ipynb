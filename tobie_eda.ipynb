{
 "cells": [
  {
   "cell_type": "code",
   "execution_count": 37,
   "metadata": {},
   "outputs": [],
   "source": [
    "import numpy as np\n",
    "import pandas as pd\n",
    "import matplotlib.pyplot as plt\n",
    "import dtale\n",
    "from clean import CleanData\n",
    "import seaborn as sns\n",
    "import json\n",
    "from sklearn.linear_model import LinearRegression\n",
    "import statsmodels.api as sm\n",
    "\n"
   ]
  },
  {
   "cell_type": "code",
   "execution_count": 19,
   "metadata": {},
   "outputs": [
    {
     "name": "stdout",
     "output_type": "stream",
     "text": [
      "Missing Data:\n",
      "=============\n",
      "None\n",
      "\n",
      "Data Time Period:\n",
      "=================\n",
      "Start Date: 2020-09-22 14:22:38\n",
      "  End Date: 2020-12-21 03:18:36\n",
      " Timedelta: 89 days 12:55:58\n"
     ]
    }
   ],
   "source": [
    "data = json.load(open('./data/trending.json', encoding=\"utf8\"))\n",
    "data = data['collector']\n",
    "toParse = pd.json_normalize(data)\n",
    "df = CleanData(toParse)\n",
    "df.process_the_data()\n",
    "df.summary_of_data()"
   ]
  },
  {
   "cell_type": "code",
   "execution_count": 21,
   "metadata": {},
   "outputs": [
    {
     "data": {
      "text/html": [
       "<div>\n",
       "<style scoped>\n",
       "    .dataframe tbody tr th:only-of-type {\n",
       "        vertical-align: middle;\n",
       "    }\n",
       "\n",
       "    .dataframe tbody tr th {\n",
       "        vertical-align: top;\n",
       "    }\n",
       "\n",
       "    .dataframe thead th {\n",
       "        text-align: right;\n",
       "    }\n",
       "</style>\n",
       "<table border=\"1\" class=\"dataframe\">\n",
       "  <thead>\n",
       "    <tr style=\"text-align: right;\">\n",
       "      <th></th>\n",
       "      <th>947</th>\n",
       "      <th>349</th>\n",
       "      <th>706</th>\n",
       "    </tr>\n",
       "  </thead>\n",
       "  <tbody>\n",
       "    <tr>\n",
       "      <th>id</th>\n",
       "      <td>6894081763379924229</td>\n",
       "      <td>6885766692627107077</td>\n",
       "      <td>6890571273110392065</td>\n",
       "    </tr>\n",
       "    <tr>\n",
       "      <th>text</th>\n",
       "      <td>#TimeWarpScan</td>\n",
       "      <td>Beatbox keeping me sane before my flight 🗣✈️</td>\n",
       "      <td>How to draw hand #artchallenge #drawing</td>\n",
       "    </tr>\n",
       "    <tr>\n",
       "      <th>createTime</th>\n",
       "      <td>2020-11-12 03:58:55</td>\n",
       "      <td>2020-10-20 18:12:03</td>\n",
       "      <td>2020-11-02 16:55:47</td>\n",
       "    </tr>\n",
       "    <tr>\n",
       "      <th>webVideoUrl</th>\n",
       "      <td>https://www.tiktok.com/@billieeilish/video/689...</td>\n",
       "      <td>https://www.tiktok.com/@spencerx/video/6885766...</td>\n",
       "      <td>https://www.tiktok.com/@condsty/video/68905712...</td>\n",
       "    </tr>\n",
       "    <tr>\n",
       "      <th>likeCount</th>\n",
       "      <td>31000000</td>\n",
       "      <td>5200000</td>\n",
       "      <td>5000000</td>\n",
       "    </tr>\n",
       "    <tr>\n",
       "      <th>shareCount</th>\n",
       "      <td>220100</td>\n",
       "      <td>31600</td>\n",
       "      <td>110900</td>\n",
       "    </tr>\n",
       "    <tr>\n",
       "      <th>playCount</th>\n",
       "      <td>250800000</td>\n",
       "      <td>44600000</td>\n",
       "      <td>68700000</td>\n",
       "    </tr>\n",
       "    <tr>\n",
       "      <th>commentCount</th>\n",
       "      <td>625700</td>\n",
       "      <td>32000</td>\n",
       "      <td>12200</td>\n",
       "    </tr>\n",
       "    <tr>\n",
       "      <th>downloaded</th>\n",
       "      <td>True</td>\n",
       "      <td>True</td>\n",
       "      <td>True</td>\n",
       "    </tr>\n",
       "    <tr>\n",
       "      <th>mentions</th>\n",
       "      <td>[]</td>\n",
       "      <td>[]</td>\n",
       "      <td>[]</td>\n",
       "    </tr>\n",
       "    <tr>\n",
       "      <th>hashtags</th>\n",
       "      <td>[{'id': '1677732212525058', 'name': 'timewarps...</td>\n",
       "      <td>[]</td>\n",
       "      <td>[{'id': '2982619', 'name': 'artchallenge', 'ti...</td>\n",
       "    </tr>\n",
       "    <tr>\n",
       "      <th>authorMeta.id</th>\n",
       "      <td>6879693940111901701</td>\n",
       "      <td>6524904798586672143</td>\n",
       "      <td>6519530694208454666</td>\n",
       "    </tr>\n",
       "    <tr>\n",
       "      <th>authorMeta.secUid</th>\n",
       "      <td>MS4wLjABAAAAQC9D0J9C7zCdiToBJvaCHEZZl1FXTKeeSV...</td>\n",
       "      <td>MS4wLjABAAAABKI9wkOM_rWwOAzNYfT4aCNzOdjVvtYaLA...</td>\n",
       "      <td>MS4wLjABAAAA_F4IuYTp8hrVuXHUoMyvp4p6RfAUibYMVE...</td>\n",
       "    </tr>\n",
       "    <tr>\n",
       "      <th>authorMeta.name</th>\n",
       "      <td>billieeilish</td>\n",
       "      <td>spencerx</td>\n",
       "      <td>condsty</td>\n",
       "    </tr>\n",
       "    <tr>\n",
       "      <th>authorMeta.nickName</th>\n",
       "      <td>BILLIE EILISH</td>\n",
       "      <td>Spencer X</td>\n",
       "      <td>Christoph</td>\n",
       "    </tr>\n",
       "    <tr>\n",
       "      <th>authorMeta.verified</th>\n",
       "      <td>True</td>\n",
       "      <td>True</td>\n",
       "      <td>False</td>\n",
       "    </tr>\n",
       "    <tr>\n",
       "      <th>authorMeta.signature</th>\n",
       "      <td>18</td>\n",
       "      <td>Mouth Music Man 🗣🎶</td>\n",
       "      <td>Please click here ⬆️\\n  Insta:🌷condsty_1 🌷\\nco...</td>\n",
       "    </tr>\n",
       "    <tr>\n",
       "      <th>authorMeta.avatar</th>\n",
       "      <td>https://p16-sign-va.tiktokcdn.com/tos-maliva-a...</td>\n",
       "      <td>https://p16-sign-va.tiktokcdn.com/musically-ma...</td>\n",
       "      <td>https://p77-sign-sg.tiktokcdn.com/musically-ma...</td>\n",
       "    </tr>\n",
       "    <tr>\n",
       "      <th>musicMeta.musicId</th>\n",
       "      <td>6894081781822262022</td>\n",
       "      <td>6855109421165497093</td>\n",
       "      <td>220578241525575680</td>\n",
       "    </tr>\n",
       "    <tr>\n",
       "      <th>musicMeta.musicName</th>\n",
       "      <td>original sound</td>\n",
       "      <td>original sound</td>\n",
       "      <td>Shape Of You</td>\n",
       "    </tr>\n",
       "    <tr>\n",
       "      <th>musicMeta.musicAuthor</th>\n",
       "      <td>BILLIE EILISH</td>\n",
       "      <td>Spencer X</td>\n",
       "      <td>Mir</td>\n",
       "    </tr>\n",
       "    <tr>\n",
       "      <th>musicMeta.musicOriginal</th>\n",
       "      <td>True</td>\n",
       "      <td>True</td>\n",
       "      <td>True</td>\n",
       "    </tr>\n",
       "    <tr>\n",
       "      <th>musicMeta.playUrl</th>\n",
       "      <td>https://sf16-sg.tiktokcdn.com/obj/musically-ma...</td>\n",
       "      <td>https://sf77-sg.tiktokcdn.com/obj/musically-ma...</td>\n",
       "      <td>https://sf16-sg.tiktokcdn.com/obj/musically-ma...</td>\n",
       "    </tr>\n",
       "    <tr>\n",
       "      <th>musicMeta.coverThumb</th>\n",
       "      <td>https://p16-sign-va.tiktokcdn.com/tos-maliva-a...</td>\n",
       "      <td>https://p16-sign-va.tiktokcdn.com/musically-ma...</td>\n",
       "      <td>https://p16-sign-sg.tiktokcdn.com/aweme/100x10...</td>\n",
       "    </tr>\n",
       "    <tr>\n",
       "      <th>musicMeta.coverMedium</th>\n",
       "      <td>https://p16-sign-va.tiktokcdn.com/tos-maliva-a...</td>\n",
       "      <td>https://p16-sign-va.tiktokcdn.com/musically-ma...</td>\n",
       "      <td>https://p16-sign-sg.tiktokcdn.com/aweme/720x72...</td>\n",
       "    </tr>\n",
       "    <tr>\n",
       "      <th>musicMeta.coverLarge</th>\n",
       "      <td>https://p16-sign-va.tiktokcdn.com/tos-maliva-a...</td>\n",
       "      <td>https://p16-sign-va.tiktokcdn.com/musically-ma...</td>\n",
       "      <td>https://p16-sign-sg.tiktokcdn.com/aweme/1080x1...</td>\n",
       "    </tr>\n",
       "    <tr>\n",
       "      <th>covers.default</th>\n",
       "      <td>https://p16-sign-sg.tiktokcdn.com/obj/tos-mali...</td>\n",
       "      <td>https://p16-sign-sg.tiktokcdn.com/obj/tos-mali...</td>\n",
       "      <td>https://p16-sign-sg.tiktokcdn.com/obj/tos-alis...</td>\n",
       "    </tr>\n",
       "    <tr>\n",
       "      <th>covers.origin</th>\n",
       "      <td>https://p16-sign-sg.tiktokcdn.com/obj/tos-mali...</td>\n",
       "      <td>https://p16-sign-sg.tiktokcdn.com/obj/tos-mali...</td>\n",
       "      <td>https://p16-sign-sg.tiktokcdn.com/obj/tos-alis...</td>\n",
       "    </tr>\n",
       "    <tr>\n",
       "      <th>covers.dynamic</th>\n",
       "      <td>https://p16-sign-sg.tiktokcdn.com/obj/tos-mali...</td>\n",
       "      <td>https://p16-sign-sg.tiktokcdn.com/obj/tos-mali...</td>\n",
       "      <td>https://p16-sign-sg.tiktokcdn.com/obj/tos-alis...</td>\n",
       "    </tr>\n",
       "    <tr>\n",
       "      <th>videoMeta.height</th>\n",
       "      <td>1024</td>\n",
       "      <td>1024</td>\n",
       "      <td>1024</td>\n",
       "    </tr>\n",
       "    <tr>\n",
       "      <th>videoMeta.width</th>\n",
       "      <td>576</td>\n",
       "      <td>576</td>\n",
       "      <td>576</td>\n",
       "    </tr>\n",
       "    <tr>\n",
       "      <th>videoMeta.duration</th>\n",
       "      <td>9</td>\n",
       "      <td>12</td>\n",
       "      <td>14</td>\n",
       "    </tr>\n",
       "    <tr>\n",
       "      <th>shareRate</th>\n",
       "      <td>0.000878</td>\n",
       "      <td>0.000709</td>\n",
       "      <td>0.001614</td>\n",
       "    </tr>\n",
       "    <tr>\n",
       "      <th>digRate</th>\n",
       "      <td>0.123604</td>\n",
       "      <td>0.116592</td>\n",
       "      <td>0.07278</td>\n",
       "    </tr>\n",
       "    <tr>\n",
       "      <th>commentRate</th>\n",
       "      <td>0.002495</td>\n",
       "      <td>0.000717</td>\n",
       "      <td>0.000178</td>\n",
       "    </tr>\n",
       "  </tbody>\n",
       "</table>\n",
       "</div>"
      ],
      "text/plain": [
       "                                                                       947  \\\n",
       "id                                                     6894081763379924229   \n",
       "text                                                         #TimeWarpScan   \n",
       "createTime                                             2020-11-12 03:58:55   \n",
       "webVideoUrl              https://www.tiktok.com/@billieeilish/video/689...   \n",
       "likeCount                                                         31000000   \n",
       "shareCount                                                          220100   \n",
       "playCount                                                        250800000   \n",
       "commentCount                                                        625700   \n",
       "downloaded                                                            True   \n",
       "mentions                                                                []   \n",
       "hashtags                 [{'id': '1677732212525058', 'name': 'timewarps...   \n",
       "authorMeta.id                                          6879693940111901701   \n",
       "authorMeta.secUid        MS4wLjABAAAAQC9D0J9C7zCdiToBJvaCHEZZl1FXTKeeSV...   \n",
       "authorMeta.name                                               billieeilish   \n",
       "authorMeta.nickName                                          BILLIE EILISH   \n",
       "authorMeta.verified                                                   True   \n",
       "authorMeta.signature                                                    18   \n",
       "authorMeta.avatar        https://p16-sign-va.tiktokcdn.com/tos-maliva-a...   \n",
       "musicMeta.musicId                                      6894081781822262022   \n",
       "musicMeta.musicName                                         original sound   \n",
       "musicMeta.musicAuthor                                        BILLIE EILISH   \n",
       "musicMeta.musicOriginal                                               True   \n",
       "musicMeta.playUrl        https://sf16-sg.tiktokcdn.com/obj/musically-ma...   \n",
       "musicMeta.coverThumb     https://p16-sign-va.tiktokcdn.com/tos-maliva-a...   \n",
       "musicMeta.coverMedium    https://p16-sign-va.tiktokcdn.com/tos-maliva-a...   \n",
       "musicMeta.coverLarge     https://p16-sign-va.tiktokcdn.com/tos-maliva-a...   \n",
       "covers.default           https://p16-sign-sg.tiktokcdn.com/obj/tos-mali...   \n",
       "covers.origin            https://p16-sign-sg.tiktokcdn.com/obj/tos-mali...   \n",
       "covers.dynamic           https://p16-sign-sg.tiktokcdn.com/obj/tos-mali...   \n",
       "videoMeta.height                                                      1024   \n",
       "videoMeta.width                                                        576   \n",
       "videoMeta.duration                                                       9   \n",
       "shareRate                                                         0.000878   \n",
       "digRate                                                           0.123604   \n",
       "commentRate                                                       0.002495   \n",
       "\n",
       "                                                                       349  \\\n",
       "id                                                     6885766692627107077   \n",
       "text                          Beatbox keeping me sane before my flight 🗣✈️   \n",
       "createTime                                             2020-10-20 18:12:03   \n",
       "webVideoUrl              https://www.tiktok.com/@spencerx/video/6885766...   \n",
       "likeCount                                                          5200000   \n",
       "shareCount                                                           31600   \n",
       "playCount                                                         44600000   \n",
       "commentCount                                                         32000   \n",
       "downloaded                                                            True   \n",
       "mentions                                                                []   \n",
       "hashtags                                                                []   \n",
       "authorMeta.id                                          6524904798586672143   \n",
       "authorMeta.secUid        MS4wLjABAAAABKI9wkOM_rWwOAzNYfT4aCNzOdjVvtYaLA...   \n",
       "authorMeta.name                                                   spencerx   \n",
       "authorMeta.nickName                                              Spencer X   \n",
       "authorMeta.verified                                                   True   \n",
       "authorMeta.signature                                    Mouth Music Man 🗣🎶   \n",
       "authorMeta.avatar        https://p16-sign-va.tiktokcdn.com/musically-ma...   \n",
       "musicMeta.musicId                                      6855109421165497093   \n",
       "musicMeta.musicName                                         original sound   \n",
       "musicMeta.musicAuthor                                            Spencer X   \n",
       "musicMeta.musicOriginal                                               True   \n",
       "musicMeta.playUrl        https://sf77-sg.tiktokcdn.com/obj/musically-ma...   \n",
       "musicMeta.coverThumb     https://p16-sign-va.tiktokcdn.com/musically-ma...   \n",
       "musicMeta.coverMedium    https://p16-sign-va.tiktokcdn.com/musically-ma...   \n",
       "musicMeta.coverLarge     https://p16-sign-va.tiktokcdn.com/musically-ma...   \n",
       "covers.default           https://p16-sign-sg.tiktokcdn.com/obj/tos-mali...   \n",
       "covers.origin            https://p16-sign-sg.tiktokcdn.com/obj/tos-mali...   \n",
       "covers.dynamic           https://p16-sign-sg.tiktokcdn.com/obj/tos-mali...   \n",
       "videoMeta.height                                                      1024   \n",
       "videoMeta.width                                                        576   \n",
       "videoMeta.duration                                                      12   \n",
       "shareRate                                                         0.000709   \n",
       "digRate                                                           0.116592   \n",
       "commentRate                                                       0.000717   \n",
       "\n",
       "                                                                       706  \n",
       "id                                                     6890571273110392065  \n",
       "text                               How to draw hand #artchallenge #drawing  \n",
       "createTime                                             2020-11-02 16:55:47  \n",
       "webVideoUrl              https://www.tiktok.com/@condsty/video/68905712...  \n",
       "likeCount                                                          5000000  \n",
       "shareCount                                                          110900  \n",
       "playCount                                                         68700000  \n",
       "commentCount                                                         12200  \n",
       "downloaded                                                            True  \n",
       "mentions                                                                []  \n",
       "hashtags                 [{'id': '2982619', 'name': 'artchallenge', 'ti...  \n",
       "authorMeta.id                                          6519530694208454666  \n",
       "authorMeta.secUid        MS4wLjABAAAA_F4IuYTp8hrVuXHUoMyvp4p6RfAUibYMVE...  \n",
       "authorMeta.name                                                    condsty  \n",
       "authorMeta.nickName                                             Christoph   \n",
       "authorMeta.verified                                                  False  \n",
       "authorMeta.signature     Please click here ⬆️\\n  Insta:🌷condsty_1 🌷\\nco...  \n",
       "authorMeta.avatar        https://p77-sign-sg.tiktokcdn.com/musically-ma...  \n",
       "musicMeta.musicId                                       220578241525575680  \n",
       "musicMeta.musicName                                           Shape Of You  \n",
       "musicMeta.musicAuthor                                                  Mir  \n",
       "musicMeta.musicOriginal                                               True  \n",
       "musicMeta.playUrl        https://sf16-sg.tiktokcdn.com/obj/musically-ma...  \n",
       "musicMeta.coverThumb     https://p16-sign-sg.tiktokcdn.com/aweme/100x10...  \n",
       "musicMeta.coverMedium    https://p16-sign-sg.tiktokcdn.com/aweme/720x72...  \n",
       "musicMeta.coverLarge     https://p16-sign-sg.tiktokcdn.com/aweme/1080x1...  \n",
       "covers.default           https://p16-sign-sg.tiktokcdn.com/obj/tos-alis...  \n",
       "covers.origin            https://p16-sign-sg.tiktokcdn.com/obj/tos-alis...  \n",
       "covers.dynamic           https://p16-sign-sg.tiktokcdn.com/obj/tos-alis...  \n",
       "videoMeta.height                                                      1024  \n",
       "videoMeta.width                                                        576  \n",
       "videoMeta.duration                                                      14  \n",
       "shareRate                                                         0.001614  \n",
       "digRate                                                            0.07278  \n",
       "commentRate                                                       0.000178  "
      ]
     },
     "execution_count": 21,
     "metadata": {},
     "output_type": "execute_result"
    }
   ],
   "source": [
    "df_clean = df.dfm\n",
    "df_clean.sort_values(by=['likeCount'], ascending=False).head(3).T\n"
   ]
  },
  {
   "cell_type": "code",
   "execution_count": 24,
   "metadata": {},
   "outputs": [
    {
     "name": "stderr",
     "output_type": "stream",
     "text": [
      "/Users/tobiasbonger/opt/anaconda3/lib/python3.7/site-packages/dtale/views.py:1864: FutureWarning:\n",
      "\n",
      "The default value of regex will change from True to False in a future version.\n",
      "\n"
     ]
    }
   ],
   "source": [
    "d = dtale.show(df_clean)\n",
    "d.open_browser()"
   ]
  },
  {
   "cell_type": "code",
   "execution_count": 26,
   "metadata": {},
   "outputs": [],
   "source": [
    "# setting binary variables for verified authors and original sound\n",
    "df_clean[\"authorMeta.verified\"] = df_clean[\"authorMeta.verified\"].astype(int)\n",
    "df_clean[\"musicMeta.musicOriginal\"] = df_clean[\"musicMeta.musicOriginal\"].astype(int)\n"
   ]
  },
  {
   "cell_type": "code",
   "execution_count": 29,
   "metadata": {},
   "outputs": [
    {
     "data": {
      "text/plain": [
       "0    944\n",
       "1     56\n",
       "Name: authorMeta.verified, dtype: int64"
      ]
     },
     "execution_count": 29,
     "metadata": {},
     "output_type": "execute_result"
    }
   ],
   "source": [
    "df_clean[\"authorMeta.verified\"].value_counts()\n"
   ]
  },
  {
   "cell_type": "code",
   "execution_count": 30,
   "metadata": {},
   "outputs": [
    {
     "data": {
      "text/plain": [
       "1    746\n",
       "0    254\n",
       "Name: musicMeta.musicOriginal, dtype: int64"
      ]
     },
     "execution_count": 30,
     "metadata": {},
     "output_type": "execute_result"
    }
   ],
   "source": [
    "df_clean[\"musicMeta.musicOriginal\"].value_counts()\n"
   ]
  },
  {
   "cell_type": "code",
   "execution_count": 50,
   "metadata": {},
   "outputs": [
    {
     "data": {
      "text/html": [
       "<div>\n",
       "<style scoped>\n",
       "    .dataframe tbody tr th:only-of-type {\n",
       "        vertical-align: middle;\n",
       "    }\n",
       "\n",
       "    .dataframe tbody tr th {\n",
       "        vertical-align: top;\n",
       "    }\n",
       "\n",
       "    .dataframe thead th {\n",
       "        text-align: right;\n",
       "    }\n",
       "</style>\n",
       "<table border=\"1\" class=\"dataframe\">\n",
       "  <thead>\n",
       "    <tr style=\"text-align: right;\">\n",
       "      <th></th>\n",
       "      <th>digRate</th>\n",
       "    </tr>\n",
       "    <tr>\n",
       "      <th>musicMeta.musicOriginal</th>\n",
       "      <th></th>\n",
       "    </tr>\n",
       "  </thead>\n",
       "  <tbody>\n",
       "    <tr>\n",
       "      <th>0</th>\n",
       "      <td>0.087376</td>\n",
       "    </tr>\n",
       "    <tr>\n",
       "      <th>1</th>\n",
       "      <td>0.103550</td>\n",
       "    </tr>\n",
       "  </tbody>\n",
       "</table>\n",
       "</div>"
      ],
      "text/plain": [
       "                          digRate\n",
       "musicMeta.musicOriginal          \n",
       "0                        0.087376\n",
       "1                        0.103550"
      ]
     },
     "execution_count": 50,
     "metadata": {},
     "output_type": "execute_result"
    }
   ],
   "source": [
    "df_clean[[\"musicMeta.musicOriginal\", \"digRate\"]\n",
    "         ].groupby(\"musicMeta.musicOriginal\").mean()\n"
   ]
  },
  {
   "cell_type": "code",
   "execution_count": 33,
   "metadata": {},
   "outputs": [
    {
     "data": {
      "text/html": [
       "<div>\n",
       "<style scoped>\n",
       "    .dataframe tbody tr th:only-of-type {\n",
       "        vertical-align: middle;\n",
       "    }\n",
       "\n",
       "    .dataframe tbody tr th {\n",
       "        vertical-align: top;\n",
       "    }\n",
       "\n",
       "    .dataframe thead th {\n",
       "        text-align: right;\n",
       "    }\n",
       "</style>\n",
       "<table border=\"1\" class=\"dataframe\">\n",
       "  <thead>\n",
       "    <tr style=\"text-align: right;\">\n",
       "      <th></th>\n",
       "      <th>digRate</th>\n",
       "    </tr>\n",
       "    <tr>\n",
       "      <th>authorMeta.verified</th>\n",
       "      <th></th>\n",
       "    </tr>\n",
       "  </thead>\n",
       "  <tbody>\n",
       "    <tr>\n",
       "      <th>0</th>\n",
       "      <td>0.098218</td>\n",
       "    </tr>\n",
       "    <tr>\n",
       "      <th>1</th>\n",
       "      <td>0.120076</td>\n",
       "    </tr>\n",
       "  </tbody>\n",
       "</table>\n",
       "</div>"
      ],
      "text/plain": [
       "                      digRate\n",
       "authorMeta.verified          \n",
       "0                    0.098218\n",
       "1                    0.120076"
      ]
     },
     "execution_count": 33,
     "metadata": {},
     "output_type": "execute_result"
    },
    {
     "name": "stdout",
     "output_type": "stream",
     "text": [
      "Executing shutdown due to inactivity...\n"
     ]
    },
    {
     "name": "stderr",
     "output_type": "stream",
     "text": [
      "2021-10-31 23:40:25,666 - INFO     - Executing shutdown due to inactivity...\n"
     ]
    },
    {
     "name": "stdout",
     "output_type": "stream",
     "text": [
      "Executing shutdown...\n"
     ]
    },
    {
     "name": "stderr",
     "output_type": "stream",
     "text": [
      "2021-10-31 23:40:25,775 - INFO     - Executing shutdown...\n",
      "/Users/tobiasbonger/opt/anaconda3/lib/python3.7/site-packages/dtale/app.py:397: UserWarning:\n",
      "\n",
      "The 'environ['werkzeug.server.shutdown']' function is deprecated and will be removed in Werkzeug 2.1.\n",
      "\n"
     ]
    }
   ],
   "source": [
    "df_clean[[\"authorMeta.verified\", \"digRate\"]\n",
    "         ].groupby(\"authorMeta.verified\").mean()\n"
   ]
  },
  {
   "cell_type": "code",
   "execution_count": 54,
   "metadata": {},
   "outputs": [
    {
     "name": "stdout",
     "output_type": "stream",
     "text": [
      "                                 OLS Regression Results                                \n",
      "=======================================================================================\n",
      "Dep. Variable:                      y   R-squared (uncentered):                   0.549\n",
      "Model:                            OLS   Adj. R-squared (uncentered):              0.548\n",
      "Method:                 Least Squares   F-statistic:                              1216.\n",
      "Date:                Mon, 01 Nov 2021   Prob (F-statistic):                   6.68e-175\n",
      "Time:                        09:05:50   Log-Likelihood:                          1093.5\n",
      "No. Observations:                1000   AIC:                                     -2185.\n",
      "Df Residuals:                     999   BIC:                                     -2180.\n",
      "Df Model:                           1                                                  \n",
      "Covariance Type:            nonrobust                                                  \n",
      "==============================================================================\n",
      "                 coef    std err          t      P>|t|      [0.025      0.975]\n",
      "------------------------------------------------------------------------------\n",
      "x1             0.1036      0.003     34.868      0.000       0.098       0.109\n",
      "==============================================================================\n",
      "Omnibus:                      137.455   Durbin-Watson:                   1.823\n",
      "Prob(Omnibus):                  0.000   Jarque-Bera (JB):              205.573\n",
      "Skew:                           0.955   Prob(JB):                     2.29e-45\n",
      "Kurtosis:                       4.133   Cond. No.                         1.00\n",
      "==============================================================================\n",
      "\n",
      "Notes:\n",
      "[1] R² is computed without centering (uncentered) since the model does not contain a constant.\n",
      "[2] Standard Errors assume that the covariance matrix of the errors is correctly specified.\n"
     ]
    }
   ],
   "source": [
    "X = df_clean['musicMeta.musicOriginal'].values\n",
    "Y = df_clean['digRate'].values\n",
    "lm = sm.OLS(Y, X)\n",
    "print(lm.fit().summary())\n"
   ]
  },
  {
   "cell_type": "code",
   "execution_count": 51,
   "metadata": {},
   "outputs": [
    {
     "data": {
      "text/plain": [
       "count    1000.000000\n",
       "mean        0.746000\n",
       "std         0.435515\n",
       "min         0.000000\n",
       "25%         0.000000\n",
       "50%         1.000000\n",
       "75%         1.000000\n",
       "max         1.000000\n",
       "Name: musicMeta.musicOriginal, dtype: float64"
      ]
     },
     "execution_count": 51,
     "metadata": {},
     "output_type": "execute_result"
    }
   ],
   "source": [
    "df_clean[\"musicMeta.musicOriginal\"].describe()\n"
   ]
  },
  {
   "cell_type": "code",
   "execution_count": 55,
   "metadata": {},
   "outputs": [
    {
     "name": "stdout",
     "output_type": "stream",
     "text": [
      "                                 OLS Regression Results                                \n",
      "=======================================================================================\n",
      "Dep. Variable:                      y   R-squared (uncentered):                   0.055\n",
      "Model:                            OLS   Adj. R-squared (uncentered):              0.054\n",
      "Method:                 Least Squares   F-statistic:                              58.60\n",
      "Date:                Mon, 01 Nov 2021   Prob (F-statistic):                    4.54e-14\n",
      "Time:                        09:06:04   Log-Likelihood:                          723.89\n",
      "No. Observations:                1000   AIC:                                     -1446.\n",
      "Df Residuals:                     999   BIC:                                     -1441.\n",
      "Df Model:                           1                                                  \n",
      "Covariance Type:            nonrobust                                                  \n",
      "==============================================================================\n",
      "                 coef    std err          t      P>|t|      [0.025      0.975]\n",
      "------------------------------------------------------------------------------\n",
      "x1             0.1201      0.016      7.655      0.000       0.089       0.151\n",
      "==============================================================================\n",
      "Omnibus:                      230.807   Durbin-Watson:                   0.737\n",
      "Prob(Omnibus):                  0.000   Jarque-Bera (JB):              566.609\n",
      "Skew:                           1.219   Prob(JB):                    9.17e-124\n",
      "Kurtosis:                       5.767   Cond. No.                         1.00\n",
      "==============================================================================\n",
      "\n",
      "Notes:\n",
      "[1] R² is computed without centering (uncentered) since the model does not contain a constant.\n",
      "[2] Standard Errors assume that the covariance matrix of the errors is correctly specified.\n"
     ]
    }
   ],
   "source": [
    "X = df_clean['authorMeta.verified'].values\n",
    "Y = df_clean['digRate'].values\n",
    "lm = sm.OLS(Y, X)\n",
    "print(lm.fit().summary())\n"
   ]
  },
  {
   "cell_type": "code",
   "execution_count": 53,
   "metadata": {},
   "outputs": [
    {
     "data": {
      "text/plain": [
       "count    1000.000000\n",
       "mean        0.056000\n",
       "std         0.230037\n",
       "min         0.000000\n",
       "25%         0.000000\n",
       "50%         0.000000\n",
       "75%         0.000000\n",
       "max         1.000000\n",
       "Name: authorMeta.verified, dtype: float64"
      ]
     },
     "execution_count": 53,
     "metadata": {},
     "output_type": "execute_result"
    }
   ],
   "source": [
    "df_clean[\"authorMeta.verified\"].describe()\n"
   ]
  }
 ],
 "metadata": {
  "interpreter": {
   "hash": "808bcbb6f80ab72d5b51d0124ee44b487765018de7506ba1dedc966514baa35a"
  },
  "kernelspec": {
   "display_name": "Python 3.7.6 64-bit ('base': conda)",
   "name": "python3"
  },
  "language_info": {
   "codemirror_mode": {
    "name": "ipython",
    "version": 3
   },
   "file_extension": ".py",
   "mimetype": "text/x-python",
   "name": "python",
   "nbconvert_exporter": "python",
   "pygments_lexer": "ipython3",
   "version": "3.7.6"
  },
  "orig_nbformat": 4
 },
 "nbformat": 4,
 "nbformat_minor": 2
}
