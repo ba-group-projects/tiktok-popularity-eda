{
 "cells": [
  {
   "cell_type": "markdown",
   "metadata": {},
   "source": [
    "### Definition of popular\n",
    "\n",
    "- share count\n",
    "- like count\n",
    "- comment count\n",
    "- the rate of all 3 above with respect to play count\n",
    "\n",
    "### Hypothesis: Length of videos (coupled with music and content) explains popularity of TikTok\n",
    "\n",
    "TikTok restricts video lengths because of people's short attention span, forcing users to be more creative in grabbing attention through content \n",
    "i.e. catchy music, duet, challenges etc.  \n"
   ]
  },
  {
   "cell_type": "markdown",
   "metadata": {},
   "source": [
    "## Import Packages"
   ]
  },
  {
   "cell_type": "code",
   "execution_count": 1,
   "metadata": {},
   "outputs": [],
   "source": [
    "import json\n",
    "import numpy as np\n",
    "import pandas as pd\n",
    "from clean import CleanData\n",
    "import matplotlib.pyplot as plt\n",
    "import seaborn as sns"
   ]
  },
  {
   "cell_type": "markdown",
   "metadata": {},
   "source": [
    "## Read Data"
   ]
  },
  {
   "cell_type": "code",
   "execution_count": 2,
   "metadata": {},
   "outputs": [
    {
     "name": "stdout",
     "output_type": "stream",
     "text": [
      "Missing Data:\n",
      "=============\n",
      "None\n",
      "\n",
      "Data Time Period:\n",
      "=================\n",
      "Start Date: 2020-09-22 14:22:38\n",
      "  End Date: 2020-12-21 03:18:36\n",
      " Timedelta: 89 days 12:55:58\n"
     ]
    }
   ],
   "source": [
    "data = json.load(open('./data/trending.json', encoding=\"utf8\"))\n",
    "data = data['collector']\n",
    "toParse = pd.json_normalize(data)\n",
    "df = CleanData(toParse)\n",
    "df.process_the_data()\n",
    "df.summary_of_data()"
   ]
  },
  {
   "cell_type": "markdown",
   "metadata": {},
   "source": [
    "## Segementation"
   ]
  },
  {
   "cell_type": "code",
   "execution_count": 3,
   "metadata": {},
   "outputs": [],
   "source": [
    "df_clean = df.dfm\n",
    "# df_clean.sort_values(by=['likeCount'],ascending=False).head(1).T"
   ]
  },
  {
   "cell_type": "code",
   "execution_count": 4,
   "metadata": {},
   "outputs": [
    {
     "data": {
      "text/html": [
       "<div>\n",
       "<style scoped>\n",
       "    .dataframe tbody tr th:only-of-type {\n",
       "        vertical-align: middle;\n",
       "    }\n",
       "\n",
       "    .dataframe tbody tr th {\n",
       "        vertical-align: top;\n",
       "    }\n",
       "\n",
       "    .dataframe thead th {\n",
       "        text-align: right;\n",
       "    }\n",
       "</style>\n",
       "<table border=\"1\" class=\"dataframe\">\n",
       "  <thead>\n",
       "    <tr style=\"text-align: right;\">\n",
       "      <th></th>\n",
       "      <th>57</th>\n",
       "      <th>399</th>\n",
       "      <th>595</th>\n",
       "    </tr>\n",
       "  </thead>\n",
       "  <tbody>\n",
       "    <tr>\n",
       "      <th>authorMeta.name</th>\n",
       "      <td>anwarali0125</td>\n",
       "      <td>l3fty_fr3ak</td>\n",
       "      <td>reus.fx</td>\n",
       "    </tr>\n",
       "    <tr>\n",
       "      <th>authorMeta.verified</th>\n",
       "      <td>False</td>\n",
       "      <td>False</td>\n",
       "      <td>False</td>\n",
       "    </tr>\n",
       "    <tr>\n",
       "      <th>shareRate</th>\n",
       "      <td>0.003181</td>\n",
       "      <td>0.020488</td>\n",
       "      <td>0.017623</td>\n",
       "    </tr>\n",
       "    <tr>\n",
       "      <th>likeRate</th>\n",
       "      <td>0.485684</td>\n",
       "      <td>0.446655</td>\n",
       "      <td>0.375128</td>\n",
       "    </tr>\n",
       "    <tr>\n",
       "      <th>commentRate</th>\n",
       "      <td>0.008484</td>\n",
       "      <td>0.011573</td>\n",
       "      <td>0.007987</td>\n",
       "    </tr>\n",
       "    <tr>\n",
       "      <th>playCount</th>\n",
       "      <td>943.0</td>\n",
       "      <td>55300.0</td>\n",
       "      <td>232950.0</td>\n",
       "    </tr>\n",
       "    <tr>\n",
       "      <th>shareCount</th>\n",
       "      <td>3.0</td>\n",
       "      <td>1133.0</td>\n",
       "      <td>4390.0</td>\n",
       "    </tr>\n",
       "    <tr>\n",
       "      <th>likeCount</th>\n",
       "      <td>458.0</td>\n",
       "      <td>24700.0</td>\n",
       "      <td>87850.0</td>\n",
       "    </tr>\n",
       "    <tr>\n",
       "      <th>commentCount</th>\n",
       "      <td>8.0</td>\n",
       "      <td>640.0</td>\n",
       "      <td>1832.0</td>\n",
       "    </tr>\n",
       "  </tbody>\n",
       "</table>\n",
       "</div>"
      ],
      "text/plain": [
       "                              57           399       595\n",
       "authorMeta.name      anwarali0125  l3fty_fr3ak   reus.fx\n",
       "authorMeta.verified         False        False     False\n",
       "shareRate                0.003181     0.020488  0.017623\n",
       "likeRate                 0.485684     0.446655  0.375128\n",
       "commentRate              0.008484     0.011573  0.007987\n",
       "playCount                   943.0      55300.0  232950.0\n",
       "shareCount                    3.0       1133.0    4390.0\n",
       "likeCount                   458.0      24700.0   87850.0\n",
       "commentCount                  8.0        640.0    1832.0"
      ]
     },
     "execution_count": 4,
     "metadata": {},
     "output_type": "execute_result"
    }
   ],
   "source": [
    "segmentDf = df_clean[['authorMeta.name','authorMeta.verified','shareRate','likeRate','commentRate','playCount','shareCount','likeCount','commentCount']]\n",
    "segmentDf = segmentDf.groupby(['authorMeta.name','authorMeta.verified'],as_index=False).agg(np.mean)\n",
    "segmentDf = segmentDf.sort_values(by='likeRate',ascending=False)#.head(3).T\n",
    "segmentDf.head(3).T"
   ]
  },
  {
   "cell_type": "code",
   "execution_count": 7,
   "metadata": {},
   "outputs": [
    {
     "data": {
      "text/plain": [
       "array([False,  True])"
      ]
     },
     "execution_count": 7,
     "metadata": {},
     "output_type": "execute_result"
    }
   ],
   "source": [
    "segmentDf['authorMeta.verified'].unique()"
   ]
  },
  {
   "cell_type": "code",
   "execution_count": 8,
   "metadata": {},
   "outputs": [
    {
     "data": {
      "image/png": "[encoded data removed]",
      "text/plain": [
       "<Figure size 576x360 with 4 Axes>"
      ]
     },
     "metadata": {
      "needs_background": "light"
     },
     "output_type": "display_data"
    }
   ],
   "source": [
    "fig = plt.figure(figsize=(8, 5), tight_layout=True)\n",
    "plt.suptitle('Boxplots', fontsize=15)\n",
    "fig.add_subplot(221)\n",
    "sns.boxplot(x='shareRate', data=segmentDf)\n",
    "fig.add_subplot(222)\n",
    "sns.boxplot(x='likeRate', data=segmentDf)\n",
    "fig.add_subplot(223)\n",
    "sns.boxplot(x='commentRate', data=segmentDf)\n",
    "ax = fig.add_subplot(224)\n",
    "\n",
    "categories = segmentDf['authorMeta.verified'].unique()\n",
    "counts = segmentDf['authorMeta.verified'].value_counts()\n",
    "pos = [0,1]\n",
    "ax.bar(pos,counts,width=0.5)\n",
    "\n",
    "ax.set_xticks(pos)\n",
    "ax.set_xticklabels(categories)\n",
    "\n",
    "plt.show()"
   ]
  },
  {
   "cell_type": "markdown",
   "metadata": {},
   "source": [
    "## EDA"
   ]
  },
  {
   "cell_type": "code",
   "execution_count": 6,
   "metadata": {},
   "outputs": [
    {
     "data": {
      "text/html": [
       "<div>\n",
       "<style scoped>\n",
       "    .dataframe tbody tr th:only-of-type {\n",
       "        vertical-align: middle;\n",
       "    }\n",
       "\n",
       "    .dataframe tbody tr th {\n",
       "        vertical-align: top;\n",
       "    }\n",
       "\n",
       "    .dataframe thead th {\n",
       "        text-align: right;\n",
       "    }\n",
       "</style>\n",
       "<table border=\"1\" class=\"dataframe\">\n",
       "  <thead>\n",
       "    <tr style=\"text-align: right;\">\n",
       "      <th>createTime</th>\n",
       "      <th>9</th>\n",
       "      <th>10</th>\n",
       "      <th>11</th>\n",
       "      <th>12</th>\n",
       "    </tr>\n",
       "  </thead>\n",
       "  <tbody>\n",
       "    <tr>\n",
       "      <th>createTime</th>\n",
       "      <td>80</td>\n",
       "      <td>325</td>\n",
       "      <td>311</td>\n",
       "      <td>284</td>\n",
       "    </tr>\n",
       "  </tbody>\n",
       "</table>\n",
       "</div>"
      ],
      "text/plain": [
       "createTime  9    10   11   12\n",
       "createTime  80  325  311  284"
      ]
     },
     "execution_count": 6,
     "metadata": {},
     "output_type": "execute_result"
    }
   ],
   "source": [
    "df_clean[['createTime']].groupby(df_clean[\"createTime\"].dt.month).count().transpose()"
   ]
  },
  {
   "cell_type": "code",
   "execution_count": 10,
   "metadata": {},
   "outputs": [
    {
     "data": {
      "image/png": "[encoded data removed]",
      "text/plain": [
       "<Figure size 576x360 with 1 Axes>"
      ]
     },
     "metadata": {
      "needs_background": "light"
     },
     "output_type": "display_data"
    }
   ],
   "source": [
    "pivot_df = df_clean[['createTime']].groupby(df_clean[\"createTime\"].dt.month).count()#.sort_values(by='videoMeta.duration',axis=1)#.plot(kind=\"bar\", legend=False)\n",
    "pivot_df = pivot_df.rename(columns={\"createTime\": \"count\"})\n",
    "pivot_df = pivot_df.reset_index()\n",
    "\n",
    "fig = plt.figure(figsize=(8,5))\n",
    "ax = fig.add_subplot(111)\n",
    "x = pivot_df['createTime']\n",
    "y = pivot_df['count']\n",
    "\n",
    "ax.bar(x,y,width=0.25)\n",
    "ax.set_xticks(np.arange(min(x), max(x)+1, 1))\n",
    "ax.set_xticklabels(['Sept','Oct','Nov','Dec'])\n",
    "ax.set_xlabel('Months in 2020')\n",
    "ax.set_ylabel('# of Videos')\n",
    "plt.show()"
   ]
  },
  {
   "cell_type": "code",
   "execution_count": 11,
   "metadata": {},
   "outputs": [
    {
     "data": {
      "text/html": [
       "<div>\n",
       "<style scoped>\n",
       "    .dataframe tbody tr th:only-of-type {\n",
       "        vertical-align: middle;\n",
       "    }\n",
       "\n",
       "    .dataframe tbody tr th {\n",
       "        vertical-align: top;\n",
       "    }\n",
       "\n",
       "    .dataframe thead th {\n",
       "        text-align: right;\n",
       "    }\n",
       "</style>\n",
       "<table border=\"1\" class=\"dataframe\">\n",
       "  <thead>\n",
       "    <tr style=\"text-align: right;\">\n",
       "      <th></th>\n",
       "      <th>videoMeta.duration</th>\n",
       "      <th>likeCount</th>\n",
       "      <th>shareCount</th>\n",
       "      <th>playCount</th>\n",
       "      <th>commentCount</th>\n",
       "    </tr>\n",
       "  </thead>\n",
       "  <tbody>\n",
       "    <tr>\n",
       "      <th>0</th>\n",
       "      <td>4</td>\n",
       "      <td>2232.000000</td>\n",
       "      <td>19.000000</td>\n",
       "      <td>4.790000e+04</td>\n",
       "      <td>27.000000</td>\n",
       "    </tr>\n",
       "    <tr>\n",
       "      <th>1</th>\n",
       "      <td>5</td>\n",
       "      <td>27612.000000</td>\n",
       "      <td>1105.615385</td>\n",
       "      <td>3.385538e+05</td>\n",
       "      <td>389.153846</td>\n",
       "    </tr>\n",
       "    <tr>\n",
       "      <th>2</th>\n",
       "      <td>6</td>\n",
       "      <td>16755.857143</td>\n",
       "      <td>493.476190</td>\n",
       "      <td>2.459732e+05</td>\n",
       "      <td>158.238095</td>\n",
       "    </tr>\n",
       "    <tr>\n",
       "      <th>3</th>\n",
       "      <td>7</td>\n",
       "      <td>45123.641026</td>\n",
       "      <td>1008.641026</td>\n",
       "      <td>7.938128e+05</td>\n",
       "      <td>266.871795</td>\n",
       "    </tr>\n",
       "    <tr>\n",
       "      <th>4</th>\n",
       "      <td>8</td>\n",
       "      <td>124246.000000</td>\n",
       "      <td>3537.272727</td>\n",
       "      <td>1.078814e+06</td>\n",
       "      <td>1183.606061</td>\n",
       "    </tr>\n",
       "  </tbody>\n",
       "</table>\n",
       "</div>"
      ],
      "text/plain": [
       "   videoMeta.duration      likeCount   shareCount     playCount  commentCount\n",
       "0                   4    2232.000000    19.000000  4.790000e+04     27.000000\n",
       "1                   5   27612.000000  1105.615385  3.385538e+05    389.153846\n",
       "2                   6   16755.857143   493.476190  2.459732e+05    158.238095\n",
       "3                   7   45123.641026  1008.641026  7.938128e+05    266.871795\n",
       "4                   8  124246.000000  3537.272727  1.078814e+06   1183.606061"
      ]
     },
     "execution_count": 11,
     "metadata": {},
     "output_type": "execute_result"
    }
   ],
   "source": [
    "count_df = df_clean[['videoMeta.duration']].groupby(df_clean[\"videoMeta.duration\"]).count()#.sort_values(by='videoMeta.duration',axis=1)#.plot(kind=\"bar\", legend=False)\n",
    "count_df = count_df.rename(columns={\"videoMeta.duration\": \"count\"})\n",
    "count_df = count_df.reset_index()\n",
    "\n",
    "avg_df = df_clean[['videoMeta.duration','likeCount','shareCount','playCount','commentCount']]\n",
    "avg_df = avg_df.groupby(['videoMeta.duration'],as_index=False).agg([np.mean]).reset_index()\n",
    "avg_df.columns = avg_df.columns.droplevel(-1)\n",
    "# avg_df.sort_values(by='likeCount',ascending=False).head(3).T\n",
    "avg_df.head()"
   ]
  },
  {
   "cell_type": "code",
   "execution_count": 15,
   "metadata": {},
   "outputs": [
    {
     "data": {
      "image/png": "[encoded data removed]",
      "text/plain": [
       "<Figure size 1584x720 with 4 Axes>"
      ]
     },
     "metadata": {
      "needs_background": "light"
     },
     "output_type": "display_data"
    }
   ],
   "source": [
    "fig = plt.figure(figsize=(22,10),constrained_layout=True)\n",
    "bar_width = 0.3\n",
    "\n",
    "ax1 = fig.add_subplot(221)\n",
    "x = count_df['videoMeta.duration']\n",
    "y = count_df['count']\n",
    "\n",
    "ax1.bar(x,y, color='k', width=bar_width)\n",
    "ax1.set_xticks(np.arange(min(x), max(x)+1, 1))\n",
    "ax1.set_xticklabels(ax1.get_xticks(),rotation=90)\n",
    "ax1.set_xlabel('Video Duration (seconds)', fontdict={'fontsize': 15})\n",
    "ax1.set_ylabel('# of Videos', fontdict={'fontsize': 15})\n",
    "ax1.tick_params(axis='both', which='major', labelsize=12)\n",
    "\n",
    "ax1.bar([15], count_df[count_df['videoMeta.duration'] == 15]['count'].iloc[0], color='r', width=bar_width)\n",
    "\n",
    "ax2 = fig.add_subplot(222)\n",
    "x = avg_df['videoMeta.duration']\n",
    "y = avg_df['likeCount']\n",
    "\n",
    "ax2.bar(x,y,color='k', width=bar_width)\n",
    "ax2.set_xticks(np.arange(min(x), max(x)+1, 1))\n",
    "ax2.set_xticklabels(ax2.get_xticks(),rotation=90)\n",
    "ax2.set_xlabel('Video Duration (seconds)', fontdict={'fontsize': 15})\n",
    "ax2.set_ylabel('Avg. Like Count', fontdict={'fontsize': 15})\n",
    "ax2.tick_params(axis='both', which='major', labelsize=12)\n",
    "\n",
    "target = [9,40]\n",
    "ax2.bar(target, avg_df[avg_df['videoMeta.duration'].isin(target)]['likeCount'], color='r', width=bar_width)\n",
    "\n",
    "ax3 = fig.add_subplot(223)\n",
    "x = avg_df['videoMeta.duration']\n",
    "y = avg_df['shareCount']\n",
    "\n",
    "ax3.bar(x,y,color='k', width=bar_width)\n",
    "ax3.set_xticks(np.arange(min(x), max(x)+1, 1))\n",
    "ax3.set_xticklabels(ax3.get_xticks(),rotation=90)\n",
    "ax3.set_xlabel('Video Duration (seconds)', fontdict={'fontsize': 15})\n",
    "ax3.set_ylabel('Avg. Share Count', fontdict={'fontsize': 15})\n",
    "ax3.tick_params(axis='both', which='major', labelsize=12)\n",
    "\n",
    "target = [36,40]\n",
    "ax3.bar(target, avg_df[avg_df['videoMeta.duration'].isin(target)]['shareCount'], color='r', width=bar_width)\n",
    "\n",
    "ax4 = fig.add_subplot(224)\n",
    "x = avg_df['videoMeta.duration']\n",
    "y = avg_df['commentCount']\n",
    "\n",
    "ax4.bar(x,y,color='k', width=bar_width)\n",
    "ax4.set_xticks(np.arange(min(x), max(x)+1, 1))\n",
    "ax4.set_xticklabels(ax4.get_xticks(),rotation=90)\n",
    "ax4.set_xlabel('Video Duration (seconds)', fontdict={'fontsize': 15})\n",
    "ax4.set_ylabel('Avg. comment Count', fontdict={'fontsize': 15})\n",
    "ax4.tick_params(axis='both', which='major', labelsize=12)\n",
    "\n",
    "target = [9]\n",
    "ax4.bar(target, avg_df[avg_df['videoMeta.duration'].isin(target)]['commentCount'], color='r', width=bar_width)\n",
    "\n",
    "plt.show()"
   ]
  },
  {
   "cell_type": "code",
   "execution_count": null,
   "metadata": {},
   "outputs": [],
   "source": []
  }
 ],
 "metadata": {
  "interpreter": {
   "hash": "de224228d653c9c72abaa14a89f36acd88ebde11060a7f3810b05ed6826f0662"
  },
  "kernelspec": {
   "display_name": "Python 3.8.8 64-bit ('smm635': conda)",
   "name": "python3"
  },
  "language_info": {
   "codemirror_mode": {
    "name": "ipython",
    "version": 3
   },
   "file_extension": ".py",
   "mimetype": "text/x-python",
   "name": "python",
   "nbconvert_exporter": "python",
   "pygments_lexer": "ipython3",
   "version": "3.8.8"
  },
  "orig_nbformat": 4
 },
 "nbformat": 4,
 "nbformat_minor": 2
}
