{
 "cells": [
  {
   "cell_type": "code",
   "execution_count": 1,
   "metadata": {},
   "outputs": [],
   "source": [
    "import numpy as np\n",
    "import pandas as pd\n",
    "import matplotlib.pyplot as plt\n",
    "import dtale\n",
    "from clean import CleanData\n",
    "import seaborn as sns\n",
    "import json\n",
    "from sklearn.linear_model import LinearRegression\n",
    "import statsmodels.api as sm\n",
    "from googletrans import Translator\n"
   ]
  },
  {
   "cell_type": "code",
   "execution_count": 2,
   "metadata": {},
   "outputs": [],
   "source": [
    "df = pd.read_csv(\"new_dfm.csv\")"
   ]
  },
  {
   "cell_type": "code",
   "execution_count": 3,
   "metadata": {},
   "outputs": [
    {
     "name": "stdout",
     "output_type": "stream",
     "text": [
      "<class 'pandas.core.frame.DataFrame'>\n",
      "RangeIndex: 1000 entries, 0 to 999\n",
      "Data columns (total 39 columns):\n",
      " #   Column                   Non-Null Count  Dtype  \n",
      "---  ------                   --------------  -----  \n",
      " 0   Unnamed: 0               1000 non-null   int64  \n",
      " 1   Unnamed: 0.1             1000 non-null   int64  \n",
      " 2   id                       1000 non-null   int64  \n",
      " 3   text                     962 non-null    object \n",
      " 4   createTime               1000 non-null   object \n",
      " 5   webVideoUrl              1000 non-null   object \n",
      " 6   likeCount                1000 non-null   int64  \n",
      " 7   shareCount               1000 non-null   int64  \n",
      " 8   playCount                1000 non-null   int64  \n",
      " 9   commentCount             1000 non-null   int64  \n",
      " 10  downloaded               1000 non-null   bool   \n",
      " 11  mentions                 1000 non-null   object \n",
      " 12  hashtags                 1000 non-null   object \n",
      " 13  authorMeta.id            1000 non-null   int64  \n",
      " 14  authorMeta.secUid        1000 non-null   object \n",
      " 15  authorMeta.name          1000 non-null   object \n",
      " 16  authorMeta.nickName      1000 non-null   object \n",
      " 17  authorMeta.verified      1000 non-null   int64  \n",
      " 18  authorMeta.signature     914 non-null    object \n",
      " 19  authorMeta.avatar        1000 non-null   object \n",
      " 20  musicMeta.musicId        1000 non-null   int64  \n",
      " 21  musicMeta.musicName      1000 non-null   object \n",
      " 22  musicMeta.musicAuthor    1000 non-null   object \n",
      " 23  musicMeta.musicOriginal  1000 non-null   int64  \n",
      " 24  musicMeta.playUrl        998 non-null    object \n",
      " 25  musicMeta.coverThumb     1000 non-null   object \n",
      " 26  musicMeta.coverMedium    1000 non-null   object \n",
      " 27  musicMeta.coverLarge     1000 non-null   object \n",
      " 28  covers.default           1000 non-null   object \n",
      " 29  covers.origin            1000 non-null   object \n",
      " 30  covers.dynamic           1000 non-null   object \n",
      " 31  videoMeta.height         1000 non-null   int64  \n",
      " 32  videoMeta.width          1000 non-null   int64  \n",
      " 33  videoMeta.duration       1000 non-null   int64  \n",
      " 34  shareRate                1000 non-null   float64\n",
      " 35  likeRate                 1000 non-null   float64\n",
      " 36  commentRate              1000 non-null   float64\n",
      " 37  musicName                1000 non-null   object \n",
      " 38  translated_lang          783 non-null    object \n",
      "dtypes: bool(1), float64(3), int64(14), object(21)\n",
      "memory usage: 298.0+ KB\n"
     ]
    }
   ],
   "source": [
    "df.info()"
   ]
  },
  {
   "cell_type": "code",
   "execution_count": 4,
   "metadata": {},
   "outputs": [
    {
     "data": {
      "text/plain": [
       "original sound                                   353\n",
       "Original sound                                    27\n",
       "Original sound.                                   20\n",
       "as original                                       19\n",
       "Therefore I Am                                     8\n",
       "Original                                           6\n",
       "Oh No                                              5\n",
       "The original sound                                 5\n",
       "Potential Breakup Song                             4\n",
       "WITHOUT YOU                                        4\n",
       "Where Is The Love?                                 4\n",
       "Original Sound                                     4\n",
       "What You Know Bout Love                            3\n",
       "They are original                                  3\n",
       "Pilfingerdansen - Remix                            3\n",
       "ruin our friendship                                3\n",
       "positions                                          2\n",
       "BILLIE JEAN X BOO X F IT UP VMESHBEATS MASHUP      2\n",
       "Rocky: Eye of the Tiger                            2\n",
       "Remember the Name (feat. Styles of Beyond)         2\n",
       "Name: translated_lang, dtype: int64"
      ]
     },
     "execution_count": 4,
     "metadata": {},
     "output_type": "execute_result"
    }
   ],
   "source": [
    "df[\"translated_lang\"].value_counts().head(20)\n"
   ]
  },
  {
   "cell_type": "code",
   "execution_count": 5,
   "metadata": {},
   "outputs": [],
   "source": [
    "df[\"translated_lang\"] = df[\"translated_lang\"].astype(\n",
    "    str)\n",
    "df[\"translated_lang\"] = df[\"translated_lang\"].apply(\n",
    "    lambda x: x.lower())\n"
   ]
  },
  {
   "cell_type": "code",
   "execution_count": 6,
   "metadata": {},
   "outputs": [
    {
     "data": {
      "text/plain": [
       "original sound                                   384\n",
       "nan                                              217\n",
       "original sound.                                   20\n",
       "as original                                       19\n",
       "therefore i am                                     8\n",
       "original                                           6\n",
       "oh no                                              5\n",
       "the original sound                                 5\n",
       "potential breakup song                             4\n",
       "without you                                        4\n",
       "where is the love?                                 4\n",
       "what you know bout love                            3\n",
       "they are original                                  3\n",
       "pilfingerdansen - remix                            3\n",
       "ruin our friendship                                3\n",
       "sean kingston & justin bieber - eenie meenie       2\n",
       "billie jean x boo x f it up vmeshbeats mashup      2\n",
       "oh my god                                          2\n",
       "sit on the farmer                                  2\n",
       "remember the name (feat. styles of beyond)         2\n",
       "Name: translated_lang, dtype: int64"
      ]
     },
     "execution_count": 6,
     "metadata": {},
     "output_type": "execute_result"
    }
   ],
   "source": [
    "df[\"translated_lang\"].value_counts().head(20)"
   ]
  },
  {
   "cell_type": "code",
   "execution_count": 7,
   "metadata": {},
   "outputs": [],
   "source": [
    "df[\"original_sound\"] = df[\"translated_lang\"].apply(lambda x: True if \"original\" in  x else False)\n"
   ]
  },
  {
   "cell_type": "code",
   "execution_count": 9,
   "metadata": {},
   "outputs": [
    {
     "data": {
      "text/plain": [
       "False    546\n",
       "True     454\n",
       "Name: original_sound, dtype: int64"
      ]
     },
     "execution_count": 9,
     "metadata": {},
     "output_type": "execute_result"
    }
   ],
   "source": [
    "df[\"original_sound\"].value_counts()"
   ]
  },
  {
   "cell_type": "code",
   "execution_count": 10,
   "metadata": {},
   "outputs": [],
   "source": [
    "df[\"first_audio\"] = df[\"musicMeta.musicOriginal\"]"
   ]
  },
  {
   "cell_type": "code",
   "execution_count": 11,
   "metadata": {},
   "outputs": [
    {
     "data": {
      "text/html": [
       "<div>\n",
       "<style scoped>\n",
       "    .dataframe tbody tr th:only-of-type {\n",
       "        vertical-align: middle;\n",
       "    }\n",
       "\n",
       "    .dataframe tbody tr th {\n",
       "        vertical-align: top;\n",
       "    }\n",
       "\n",
       "    .dataframe thead th {\n",
       "        text-align: right;\n",
       "    }\n",
       "</style>\n",
       "<table border=\"1\" class=\"dataframe\">\n",
       "  <thead>\n",
       "    <tr style=\"text-align: right;\">\n",
       "      <th></th>\n",
       "      <th></th>\n",
       "      <th>likeRate</th>\n",
       "    </tr>\n",
       "    <tr>\n",
       "      <th>first_audio</th>\n",
       "      <th>original_sound</th>\n",
       "      <th></th>\n",
       "    </tr>\n",
       "  </thead>\n",
       "  <tbody>\n",
       "    <tr>\n",
       "      <th rowspan=\"2\" valign=\"top\">1</th>\n",
       "      <th>False</th>\n",
       "      <td>0.106613</td>\n",
       "    </tr>\n",
       "    <tr>\n",
       "      <th>True</th>\n",
       "      <td>0.101524</td>\n",
       "    </tr>\n",
       "    <tr>\n",
       "      <th rowspan=\"2\" valign=\"top\">0</th>\n",
       "      <th>False</th>\n",
       "      <td>0.087618</td>\n",
       "    </tr>\n",
       "    <tr>\n",
       "      <th>True</th>\n",
       "      <td>0.075364</td>\n",
       "    </tr>\n",
       "  </tbody>\n",
       "</table>\n",
       "</div>"
      ],
      "text/plain": [
       "                            likeRate\n",
       "first_audio original_sound          \n",
       "1           False           0.106613\n",
       "            True            0.101524\n",
       "0           False           0.087618\n",
       "            True            0.075364"
      ]
     },
     "execution_count": 11,
     "metadata": {},
     "output_type": "execute_result"
    }
   ],
   "source": [
    "df[[\"first_audio\",\"original_sound\", \"likeRate\"]].groupby(\n",
    "    [\"first_audio\", \"original_sound\"]).mean().sort_values(by=\"likeRate\", ascending=False)\n"
   ]
  }
 ],
 "metadata": {
  "interpreter": {
   "hash": "808bcbb6f80ab72d5b51d0124ee44b487765018de7506ba1dedc966514baa35a"
  },
  "kernelspec": {
   "display_name": "Python 3.7.6 64-bit ('base': conda)",
   "name": "python3"
  },
  "language_info": {
   "codemirror_mode": {
    "name": "ipython",
    "version": 3
   },
   "file_extension": ".py",
   "mimetype": "text/x-python",
   "name": "python",
   "nbconvert_exporter": "python",
   "pygments_lexer": "ipython3",
   "version": "3.7.6"
  },
  "orig_nbformat": 4
 },
 "nbformat": 4,
 "nbformat_minor": 2
}
