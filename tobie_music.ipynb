{
 "cells": [
  {
   "cell_type": "code",
   "execution_count": null,
   "metadata": {},
   "outputs": [],
   "source": [
    "# Import packages\n",
    "import numpy as np\n",
    "import pandas as pd\n",
    "import matplotlib.pyplot as plt\n",
    "import dtale\n",
    "from clean import CleanData\n",
    "import seaborn as sns\n",
    "import json\n",
    "from sklearn.linear_model import LinearRegression\n",
    "import statsmodels.api as sm"
   ]
  },
  {
   "cell_type": "code",
   "execution_count": null,
   "metadata": {},
   "outputs": [],
   "source": [
    "# Open file with the raw data\n",
    "file = open('data/trending.json',\n",
    "            encoding=\"utf8\")\n",
    "\n",
    "# Load data as JSON\n",
    "raw_data = json.load(file)\n",
    "\n",
    "# Close the original file\n",
    "file.close()\n",
    "\n",
    "# Select only the list with the video data\n",
    "trending_videos_list = raw_data['collector']\n",
    "\n",
    "# Example of a video object\n",
    "print(json.dumps(trending_videos_list[15], indent=4, sort_keys=True))"
   ]
  },
  {
   "cell_type": "code",
   "execution_count": null,
   "metadata": {},
   "outputs": [],
   "source": [
    "# Create a DataFrame of the data\n",
    "df_tiktok_dataset = pd.DataFrame(trending_videos_list)\n",
    "\n",
    "# Let's expand the hashtag cell containing lists to multiple rows\n",
    "df_tiktok_dataset = df_tiktok_dataset.explode('hashtags').explode('mentions')"
   ]
  },
  {
   "cell_type": "code",
   "execution_count": null,
   "metadata": {},
   "outputs": [],
   "source": [
    "# Create a DataFrame of the data\n",
    "df_tiktok_music = pd.DataFrame(trending_videos_list)"
   ]
  },
  {
   "cell_type": "code",
   "execution_count": null,
   "metadata": {},
   "outputs": [],
   "source": [
    "# Create a function\n",
    "def object_to_columns(dfRow, **kwargs):\n",
    "    '''Function to expand cells containing dictionaries, to columns'''\n",
    "    for column, prefix in kwargs.items():\n",
    "        if isinstance(dfRow[column], dict):\n",
    "            for key, value in dfRow[column].items():\n",
    "                columnName = '{}.{}'.format(prefix, key)\n",
    "                dfRow[columnName] = value\n",
    "    return dfRow"
   ]
  },
  {
   "cell_type": "code",
   "execution_count": null,
   "metadata": {},
   "outputs": [],
   "source": [
    "# Expand certain cells containing dictionaries to columns\n",
    "df_tiktok_dataset = df_tiktok_dataset.apply(object_to_columns,\n",
    "                                            authorMeta='authorMeta',\n",
    "                                            musicMeta='musicMeta',\n",
    "                                            covers='cover',\n",
    "                                            videoMeta='videoMeta',\n",
    "                                            hashtags='hashtag', axis=1)\n"
   ]
  },
  {
   "cell_type": "code",
   "execution_count": null,
   "metadata": {},
   "outputs": [],
   "source": [
    "# Remove the original columns containing the dictionaries\n",
    "df_tiktok_dataset = df_tiktok_dataset.drop(\n",
    "    ['authorMeta', 'musicMeta', 'covers', 'videoMeta', 'hashtags'], axis=1)\n",
    "df_tiktok_dataset"
   ]
  },
  {
   "cell_type": "code",
   "execution_count": null,
   "metadata": {},
   "outputs": [],
   "source": [
    "# Get unique rows from dataset\n",
    "df_unique_videos = df_tiktok_dataset.drop_duplicates(subset='id', keep=\"first\")\n",
    "df_unique_music = df_tiktok_dataset.drop_duplicates(\n",
    "    subset='musicMeta.musicId', keep=\"first\")\n",
    "df_unique_authors = df_tiktok_dataset.drop_duplicates(\n",
    "    subset='authorMeta.id', keep=\"first\")\n",
    "\n",
    "# Show amount of rows per dataset\n",
    "{\n",
    "    'df_tiktok_dataset': df_tiktok_dataset.shape,\n",
    "    'df_unique_videos': df_unique_videos.shape,\n",
    "    'df_unique_music': df_unique_music.shape,\n",
    "    'df_unique_authors': df_unique_authors.shape\n",
    "}"
   ]
  },
  {
   "cell_type": "markdown",
   "metadata": {},
   "source": [
    "# Problem here finding the Audd data"
   ]
  },
  {
   "cell_type": "code",
   "execution_count": null,
   "metadata": {},
   "outputs": [],
   "source": [
    "# Import Audd Data\n",
    "df_audd_music = pd.read_csv(\n",
    "    '../input/tiktok-trending-december-2020/audd/audd_music.csv', index_col='id')\n",
    "df_audd_music_apple = pd.read_csv(\n",
    "    '../input/tiktok-trending-december-2020/audd/audd_music_apple_music.csv')\n",
    "df_audd_music_spotify = pd.read_csv(\n",
    "    '../input/tiktok-trending-december-2020/audd/audd_music_spotify_music.csv')\n",
    "df_audd_music_spotify_artists = pd.read_csv(\n",
    "    '../input/tiktok-trending-december-2020/audd/audd_music_spotify_music_artists.csv')\n"
   ]
  },
  {
   "cell_type": "code",
   "execution_count": null,
   "metadata": {},
   "outputs": [],
   "source": [
    "# The current version of the dataset contains duplicated rows, let's remove them\n",
    "df_audd_music = df_audd_music.drop_duplicates()\n",
    "\n",
    "# Add prefix to this dataset, before merging\n",
    "df_audd_music = df_audd_music.add_prefix('_audd_music.')\n",
    "df_audd_music.shape"
   ]
  },
  {
   "cell_type": "code",
   "execution_count": null,
   "metadata": {},
   "outputs": [],
   "source": [
    "# Create a DataFrame of the data\n",
    "df_tiktok_music = pd.DataFrame(trending_videos_list)\n",
    "\n",
    "# Expand certain cells containing dictionaries to columns\n",
    "df_tiktok_music = df_tiktok_music.apply(object_to_columns,\n",
    "                                        musicMeta='musicMeta', axis=1)\n",
    "\n",
    "# Convert the column dtype to int64 so we can merge\n",
    "df_tiktok_music['musicMeta.musicId'] = df_tiktok_music['musicMeta.musicId'].astype(\n",
    "    'int64')\n",
    "df_tiktok_music.shape"
   ]
  },
  {
   "cell_type": "code",
   "execution_count": null,
   "metadata": {},
   "outputs": [],
   "source": [
    "# Merge the Audd and TikTok data\n",
    "df_tiktok_audd_music = df_tiktok_music.merge(\n",
    "    df_audd_music, how='left', right_on='id', left_on='musicMeta.musicId')\n",
    "df_tiktok_audd_music.shape\n"
   ]
  },
  {
   "cell_type": "code",
   "execution_count": null,
   "metadata": {},
   "outputs": [],
   "source": [
    "df_tiktok_audd_music = df_tiktok_audd_music[(\n",
    "    df_tiktok_audd_music['musicMeta.musicName'] == 'origineel geluid') & df_tiktok_audd_music['_audd_music.artist'].notna()]\n",
    "df_tiktok_audd_music\n"
   ]
  }
 ],
 "metadata": {
  "language_info": {
   "name": "python"
  },
  "orig_nbformat": 4
 },
 "nbformat": 4,
 "nbformat_minor": 2
}
